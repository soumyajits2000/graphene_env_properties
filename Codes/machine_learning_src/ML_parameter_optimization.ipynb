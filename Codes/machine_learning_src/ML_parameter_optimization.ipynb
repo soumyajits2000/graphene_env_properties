{
  "cells": [
    {
      "cell_type": "markdown",
      "metadata": {
        "id": "view-in-github",
        "colab_type": "text"
      },
      "source": [
        "<a href=\"https://colab.research.google.com/github/zhuofachen/Raman_deep_learning/blob/main/ML_parameter_optimization.ipynb\" target=\"_parent\"><img src=\"https://colab.research.google.com/assets/colab-badge.svg\" alt=\"Open In Colab\"/></a>"
      ]
    },
    {
      "cell_type": "markdown",
      "metadata": {
        "id": "CH85VO8MYwfH"
      },
      "source": [
        "# Setup"
      ]
    },
    {
      "cell_type": "code",
      "execution_count": null,
      "metadata": {
        "id": "dMz801qMPXfG"
      },
      "outputs": [],
      "source": [
        "import random\n",
        "import collections\n",
        "import numpy as np\n",
        "from sklearn.model_selection import train_test_split\n",
        "from sklearn.metrics import confusion_matrix\n",
        "from sklearn import metrics \n",
        "import torch\n",
        "import torch.nn as nn\n",
        "import torch.nn.functional as F\n",
        "from torch.utils.data import Dataset, DataLoader\n",
        "import torchvision.transforms as transforms\n",
        "\n",
        "from PIL import Image\n",
        "import matplotlib.pyplot as plt\n",
        "import time\n",
        "import multiprocessing\n",
        "from sklearn.neighbors import KNeighborsClassifier\n",
        "from sklearn.tree import DecisionTreeClassifier\n",
        "from sklearn.svm import SVC \n",
        "from sklearn.ensemble import RandomForestClassifier\n",
        "from sklearn.naive_bayes import GaussianNB \n",
        "from sklearn.metrics import classification_report, confusion_matrix, accuracy_score"
      ]
    },
    {
      "cell_type": "code",
      "execution_count": null,
      "metadata": {
        "id": "Vcg2xbHEYzR4"
      },
      "outputs": [],
      "source": [
        "# Hyperparameters\n",
        "hps = {\n",
        "    'seed': 42,\n",
        "    'augment': False\n",
        "}"
      ]
    },
    {
      "cell_type": "markdown",
      "metadata": {
        "id": "mimggoykPQQ_"
      },
      "source": [
        "# Dataset"
      ]
    },
    {
      "cell_type": "code",
      "execution_count": null,
      "metadata": {
        "id": "V8Yvp7_9kqnT"
      },
      "outputs": [],
      "source": [
        "def load_file(filename):\n",
        "    file = open(filename) \n",
        "\n",
        "    lines = file.readlines()\n",
        "        \n",
        "    data = []\n",
        "    for line in lines:\n",
        "        arr = []\n",
        "        for num in line.split(\",\"):\n",
        "            arr.append(float(num))\n",
        "        data.append(arr)\n",
        "\n",
        "    return np.array(data)\n",
        "\n",
        "def data_augment(spectra, augmentation, noiselevel, apply_peak_shift):\n",
        "    \n",
        "    spectra_augment = np.empty(spectra.shape, dtype=float, order='C')    \n",
        "    for idx in range(len(spectra)):\n",
        "        spec = spectra[idx].reshape(1, -1)\n",
        "        max_Intensity = np.max(spec, axis = 1)\n",
        "        if augmentation:\n",
        "            if random.uniform(0, 1) > 0: # noise\n",
        "                noise = np.random.normal(0, max_Intensity * noiselevel, spec.shape[1]).astype(np.float32)\n",
        "                spec = spec + noise  \n",
        "            if apply_peak_shift:\n",
        "                if random.uniform(0, 1) > 0.5:   # Shift\n",
        "                    temp = np.zeros(spec.shape).astype(np.float32)\n",
        "                    shift_count = np.random.randint(1, 30)\n",
        "\n",
        "                    if random.uniform(0, 1) > 0.5:   # Shift right\n",
        "                        temp[:, shift_count:] = spec[:, :-shift_count]\n",
        "                    else:\n",
        "                        temp[:, :-shift_count] = spec[:, shift_count:]                \n",
        "                    spec = temp\n",
        "        spec = spec.astype(np.float32)\n",
        "        spec = spec.flatten()\n",
        "        spec = spec/max_Intensity\n",
        "        spectra_augment[idx] = spec\n",
        "    return spectra_augment"
      ]
    },
    {
      "cell_type": "code",
      "execution_count": null,
      "metadata": {
        "colab": {
          "base_uri": "https://localhost:8080/"
        },
        "id": "nnhaWqJ3kvBE",
        "outputId": "04b07772-2f88-43d6-acb5-5c32cab479b1"
      },
      "outputs": [
        {
          "name": "stdout",
          "output_type": "stream",
          "text": [
            "Total number of smaples: \n",
            "4419\n",
            "Class 0 Count: 1355\n",
            "Class 1 Count: 1386\n",
            "Class 2 Count: 727\n",
            "Class 3 Count: 951\n",
            "X shape:\t (4419, 728)\n",
            "xtrain shape:\t (3535, 728)\n",
            "xtest shape:\t (884, 728) \n",
            "\n",
            "Y shape:\t (4419,)\n",
            "ytrain shape:\t (3535,)\n",
            "ytest shape:\t (884,)\n"
          ]
        }
      ],
      "source": [
        "# Load data\n",
        "Y = []\n",
        "data = []\n",
        "# path = 'datasets/dielectric_dataset/'\n",
        "# for i in range(4):\n",
        "#     curr_data = load_file(path + \"dielectric\" + str(i) + \".txt\")    \n",
        "#     data.append(curr_data)\n",
        "#     count = len(curr_data)\n",
        "#     Y.extend([i] * count)\n",
        "\n",
        "path = 'datasets/charge_dataset/'\n",
        "for i in range(4):\n",
        "    curr_data = load_file(path + \"c\" + str(i) + \".txt\")    \n",
        "    data.append(curr_data)\n",
        "    count = len(curr_data)\n",
        "    Y.extend([i] * count)\n",
        "\n",
        "X = np.vstack(data)\n",
        "Y = np.array(Y)\n",
        "count = collections.defaultdict(int)\n",
        "for num in Y:\n",
        "    count[num] += 1\n",
        "\n",
        "classes_count = len(count.keys())\n",
        "print(\"Total number of smaples: \")\n",
        "print(sum(v for v in count.values()))\n",
        "for i in sorted(count.keys()):\n",
        "    print(\"Class\", i, \"Count:\", count[i])\n",
        "\n",
        "\n",
        "xtrain, xtest, ytrain, ytest = train_test_split(X, Y, stratify=Y, train_size=0.8, shuffle=True)\n",
        "xtrain = data_augment(xtrain, augmentation=False, noiselevel = 0, apply_peak_shift=False)\n",
        "xtest = data_augment(xtest, augmentation= False, noiselevel = 0, apply_peak_shift=False)\n",
        "\n",
        "print(\"X shape:\\t\", X.shape)\n",
        "print(\"xtrain shape:\\t\", xtrain.shape)\n",
        "print(\"xtest shape:\\t\", xtest.shape, '\\n')\n",
        "\n",
        "print(\"Y shape:\\t\", Y.shape)\n",
        "print(\"ytrain shape:\\t\", ytrain.shape)\n",
        "print(\"ytest shape:\\t\", ytest.shape)"
      ]
    },
    {
      "cell_type": "code",
      "execution_count": null,
      "metadata": {
        "colab": {
          "base_uri": "https://localhost:8080/",
          "height": 332
        },
        "id": "vXZzRG5dDcO2",
        "outputId": "e18f19ca-d65e-4a92-e687-59cadd73df3a"
      },
      "outputs": [
        {
          "data": {
            "image/png": "[encoded data removed]",
            "text/plain": [
              "<Figure size 432x360 with 1 Axes>"
            ]
          },
          "metadata": {
            "needs_background": "light"
          },
          "output_type": "display_data"
        },
        {
          "data": {
            "text/plain": [
              "<Figure size 432x288 with 0 Axes>"
            ]
          },
          "metadata": {},
          "output_type": "display_data"
        }
      ],
      "source": [
        "# Naive Bayes parameter tuning\n",
        "accuracy = []\n",
        "var_smoothings = [20, 10, 5, 1, 0.1, 9e-2, 7e-2, 5e-2, 3e-2, 2e-2, 1e-2, 9e-3, 7e-3, 5e-3, 3e-3, 1e-3, 1e-4, 1e-5]\n",
        "for var in var_smoothings:\n",
        "    gnb = GaussianNB(var_smoothing = var).fit(xtrain, ytrain) \n",
        "    tmp = gnb.score(xtest, ytest)  \n",
        "    accuracy.append(tmp)\n",
        "\n",
        "plt.figure(figsize = (6, 5))\n",
        "ax = plt.plot(var_smoothings, np.array(accuracy)*100, linewidth=3)\n",
        "plt.ylabel(\"Accuracy(%)\")\n",
        "plt.xlabel(\"var_smoothings (log)\")\n",
        "plt.xscale('log') \n",
        "plt.ylim([50, 100])\n",
        "plt.xlim([0.000005, 100])\n",
        "plt.rcParams.update({'font.size': 14})\n",
        "plt.show()\n",
        "plt.savefig('NB_parameter_tuning.png', bbox_inches = 'tight')"
      ]
    },
    {
      "cell_type": "code",
      "execution_count": null,
      "metadata": {
        "id": "JXASWAb58wHQ",
        "outputId": "1f28eb48-da77-4a5b-c853-1f17100873b2"
      },
      "outputs": [
        {
          "data": {
            "image/png": "[encoded data removed]",
            "text/plain": [
              "<Figure size 432x360 with 1 Axes>"
            ]
          },
          "metadata": {
            "needs_background": "light"
          },
          "output_type": "display_data"
        },
        {
          "data": {
            "text/plain": [
              "<Figure size 432x288 with 0 Axes>"
            ]
          },
          "metadata": {},
          "output_type": "display_data"
        }
      ],
      "source": [
        "#Decision Tree\n",
        "from sklearn.tree import DecisionTreeClassifier\n",
        "from sklearn.metrics import classification_report, confusion_matrix\n",
        "\n",
        "min_samples_splits = [0.1, 0.3, 0.5, 0.7, 0.9]\n",
        "min_samples_leafs  = np.linspace(0.1, 0.5, 8, endpoint=True)\n",
        "\n",
        "accuracy = []\n",
        "for split in min_samples_splits:\n",
        "    tmp = []\n",
        "    for numleaf in min_samples_leafs:\n",
        "        classifier = DecisionTreeClassifier(criterion = \"entropy\", random_state = 0, \n",
        "                max_depth = 3, min_samples_leaf = numleaf, min_samples_split = split) \n",
        "        classifier.fit(xtrain, ytrain)\n",
        "        ypred = classifier.predict(xtest)\n",
        "        res = accuracy_score(ytest, ypred)\n",
        "        tmp.append(res)\n",
        "    accuracy.append(tmp)\n",
        "\n",
        "results = []\n",
        "results.append(min_samples_splits)\n",
        "results.append(min_samples_leafs)\n",
        "results.append(accuracy)\n",
        "\n",
        "plt.figure(figsize = (6, 5))\n",
        "for i in range(len(min_samples_splits)):\n",
        "    acc = np.array(accuracy[i]) * 100\n",
        "    plt.plot(min_samples_leafs, acc, label=\"min_samples_splits:\" +str(min_samples_splits[i]), linewidth=3)\n",
        "plt.legend()\n",
        "plt.ylim([10, 100])\n",
        "plt.ylabel(\"Accuracy(%)\")\n",
        "plt.xlabel(\"min_samples_leafs\")\n",
        "plt.rcParams.update({'font.size': 14})\n",
        "# plt.gca().yaxis.set_major_formatter(StrMethodFormatter('{x:,.2f}')) # 2 decimal places\n",
        "plt.show()\n",
        "plt.savefig('decisiontree_parameter_tuning.png', bbox_inches = 'tight')\n"
      ]
    },
    {
      "cell_type": "code",
      "execution_count": null,
      "metadata": {
        "colab": {
          "base_uri": "https://localhost:8080/",
          "height": 290
        },
        "id": "s8GiAQdX8wJ_",
        "outputId": "7bcfa864-47b7-44d9-eba8-8f6fb84abf84"
      },
      "outputs": [
        {
          "data": {
            "image/png": "[encoded data removed]",
            "text/plain": [
              "<Figure size 432x360 with 1 Axes>"
            ]
          },
          "metadata": {
            "needs_background": "light"
          },
          "output_type": "display_data"
        },
        {
          "data": {
            "text/plain": [
              "<Figure size 432x288 with 0 Axes>"
            ]
          },
          "metadata": {},
          "output_type": "display_data"
        }
      ],
      "source": [
        "# SVM parameter tuning\n",
        "C =  [3, 9, 27, 54, 81, 150]\n",
        "gammas = ['scale', 'auto']  #the results shows 'auto' gamma is really bad, we should use scale\n",
        "kernels = ['linear', 'rbf', 'poly']\n",
        "accuracy = []\n",
        "for k in kernels:\n",
        "    tmp = []\n",
        "    for c in C:\n",
        "        svm_model = SVC(kernel = k, C = c).fit(xtrain, ytrain)    \n",
        "        res = svm_model.score(xtest, ytest) \n",
        "        tmp.append(res)\n",
        "    accuracy.append(tmp)\n",
        "\n",
        "plt.figure(figsize = (6, 5))\n",
        "for i in range(len(kernels)):\n",
        "    acc = np.array(accuracy[i]) * 100\n",
        "    plt.plot(C, acc, label=\"Kernel: \" + str(kernels[i]), linewidth=3)\n",
        "plt.legend()\n",
        "plt.ylim([95, 100])\n",
        "plt.ylabel(\"Accuracy(%)\")\n",
        "plt.xlabel(\"Penalty\")\n",
        "plt.show()\n",
        "plt.savefig('SVM_parameter_tuning.png', bbox_inches = 'tight')"
      ]
    },
    {
      "cell_type": "code",
      "execution_count": null,
      "metadata": {
        "colab": {
          "base_uri": "https://localhost:8080/",
          "height": 320
        },
        "id": "GC4ZjmpxHZ0h",
        "outputId": "d4ead56c-18bc-4fa2-f559-1c9a6b1181b4"
      },
      "outputs": [
        {
          "data": {
            "image/png": "[encoded data removed]",
            "text/plain": [
              "<Figure size 432x360 with 1 Axes>"
            ]
          },
          "metadata": {
            "needs_background": "light"
          },
          "output_type": "display_data"
        },
        {
          "data": {
            "text/plain": [
              "<Figure size 432x288 with 0 Axes>"
            ]
          },
          "metadata": {},
          "output_type": "display_data"
        }
      ],
      "source": [
        "# Random forest\n",
        "\n",
        "n_estimators = [100, 150, 200, 300, 400]\n",
        "max_features = 2\n",
        "max_depth = [5, 6, 7, 10, 15, 20]\n",
        "\n",
        "accuracy = []\n",
        "for d in max_depth:\n",
        "    tmp = []\n",
        "    for est in n_estimators:\n",
        "        randomForest = RandomForestClassifier(n_estimators=est, max_depth =d, random_state=0)\n",
        "        randomForest.fit(xtrain, ytrain)\n",
        "        ypred = randomForest.predict(xtest)  \n",
        "        res = metrics.accuracy_score(ytest, ypred)\n",
        "        tmp.append(res)\n",
        "    accuracy.append(tmp)\n",
        "\n",
        "    \n",
        "plt.figure(figsize = (6, 5))\n",
        "for i in range(len(max_depth)):\n",
        "    acc = np.array(accuracy[i]) * 100\n",
        "    plt.plot(n_estimators, acc, label=\"Max_depth: \" + str(max_depth[i]))\n",
        "plt.legend()\n",
        "plt.ylabel(\"Accuracy (%)\")\n",
        "plt.xlabel(\"Number of estimators\")\n",
        "plt.ylim([97, 100])\n",
        "plt.rcParams.update({'font.size': 14})\n",
        "plt.show()\n",
        "plt.savefig('randomForest_parameter_tuning.png', bbox_inches = 'tight')"
      ]
    },
    {
      "cell_type": "code",
      "execution_count": null,
      "metadata": {
        "id": "p21wRNMkmjPc"
      },
      "outputs": [],
      "source": [
        "# KNN parameter optimization\n",
        "accuracy = []\n",
        "neighbors = range(4, 100, 3)\n",
        "for i in range(4):\n",
        "    tmp = []\n",
        "    for n_neigh in neighbors:\n",
        "        dist_order = i + 1\n",
        "        classifier = KNeighborsClassifier(n_neighbors=n_neigh, p = dist_order)\n",
        "        classifier.fit(xtrain, ytrain)\n",
        "        ypred = classifier.predict(xtest)\n",
        "        res = accuracy_score(ytest, ypred)\n",
        "        tmp.append(res)\n",
        "    accuracy.append(tmp)\n",
        "results = []\n",
        "results.append(neighbors)\n",
        "results.append(accuracy)\n",
        "\n",
        "torch.save(results, 'KNN_parameter_tuning')\n",
        "\n",
        "\n",
        "accs = torch.load('KNN_parameter_tuning_20220113')\n",
        "neighbors, accuracy = accs\n",
        "\n",
        "plt.figure(figsize=(6, 5))\n",
        "for i in range(4):\n",
        "    acc = np.array(accuracy[i]) * 100\n",
        "    plt.plot(neighbors, acc, label=\"Distance_order: \" + str(i + 1), linewidth = 3)\n",
        "plt.legend()\n",
        "plt.ylim([90, 100])\n",
        "plt.ylabel(\"Accuracy (%)\")\n",
        "plt.xlabel(\"Number of neighbors\")\n",
        "plt.rcParams.update({'font.size': 14})\n",
        "plt.show()"
      ]
    }
  ],
  "metadata": {
    "accelerator": "GPU",
    "colab": {
      "collapsed_sections": [],
      "name": "ML parameter optimization.ipynb",
      "provenance": [],
      "include_colab_link": true
    },
    "kernelspec": {
      "display_name": "Python 3",
      "language": "python",
      "name": "python3"
    },
    "language_info": {
      "codemirror_mode": {
        "name": "ipython",
        "version": 3
      },
      "file_extension": ".py",
      "mimetype": "text/x-python",
      "name": "python",
      "nbconvert_exporter": "python",
      "pygments_lexer": "ipython3",
      "version": "3.8.5"
    }
  },
  "nbformat": 4,
  "nbformat_minor": 0
}