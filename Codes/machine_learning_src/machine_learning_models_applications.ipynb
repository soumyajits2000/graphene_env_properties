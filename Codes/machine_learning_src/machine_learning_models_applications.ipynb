{
  "cells": [
    {
      "cell_type": "markdown",
      "metadata": {
        "id": "view-in-github",
        "colab_type": "text"
      },
      "source": [
        "<a href=\"https://colab.research.google.com/github/zhuofachen/Raman_deep_learning/blob/main/machine_learning_models_applications.ipynb\" target=\"_parent\"><img src=\"https://colab.research.google.com/assets/colab-badge.svg\" alt=\"Open In Colab\"/></a>"
      ]
    },
    {
      "cell_type": "markdown",
      "metadata": {
        "id": "CH85VO8MYwfH"
      },
      "source": [
        "# Setup"
      ]
    },
    {
      "cell_type": "code",
      "execution_count": null,
      "metadata": {
        "id": "dMz801qMPXfG"
      },
      "outputs": [],
      "source": [
        "import random\n",
        "import collections\n",
        "\n",
        "import numpy as np\n",
        "\n",
        "from sklearn.model_selection import train_test_split\n",
        "from sklearn.metrics import confusion_matrix\n",
        "\n",
        "import torch\n",
        "import torch.nn as nn\n",
        "import torch.nn.functional as F\n",
        "from torch.utils.data import Dataset, DataLoader\n",
        "import torchvision.transforms as transforms\n",
        "\n",
        "from PIL import Image\n",
        "import matplotlib.pyplot as plt\n",
        "import time\n",
        "import multiprocessing\n",
        "from sklearn.neighbors import KNeighborsClassifier\n",
        "from sklearn.tree import DecisionTreeClassifier\n",
        "from sklearn.svm import SVC \n",
        "from sklearn.ensemble import RandomForestClassifier\n",
        "from sklearn.naive_bayes import GaussianNB \n",
        "from sklearn.metrics import classification_report, confusion_matrix, accuracy_score"
      ]
    },
    {
      "cell_type": "code",
      "execution_count": null,
      "metadata": {
        "id": "Vcg2xbHEYzR4"
      },
      "outputs": [],
      "source": [
        "# Hyperparameters\n",
        "hps = {\n",
        "    'seed': 42,\n",
        "    'augment': True\n",
        "}"
      ]
    },
    {
      "cell_type": "markdown",
      "metadata": {
        "id": "mimggoykPQQ_"
      },
      "source": [
        "# Dataset"
      ]
    },
    {
      "cell_type": "code",
      "execution_count": null,
      "metadata": {
        "id": "V8Yvp7_9kqnT"
      },
      "outputs": [],
      "source": [
        "def load_file(filename):\n",
        "    file = open(filename) \n",
        "\n",
        "    lines = file.readlines()\n",
        "        \n",
        "    data = []\n",
        "    for line in lines:\n",
        "        arr = []\n",
        "        for num in line.split(\",\"):\n",
        "            arr.append(float(num))\n",
        "        data.append(arr)\n",
        "\n",
        "    return np.array(data)\n",
        "\n",
        "def data_augment(spectra, augmentation, noiselevel, apply_peak_shift):\n",
        "    \n",
        "    spectra_augment = np.empty(spectra.shape, dtype=float, order='C')    \n",
        "    for idx in range(len(spectra)):\n",
        "        spec = spectra[idx].reshape(1, -1)\n",
        "        max_Intensity = np.max(spec, axis = 1)\n",
        "        if augmentation:\n",
        "            if random.uniform(0, 1) > 0: # noise\n",
        "                noise = np.random.normal(0, max_Intensity * noiselevel, spec.shape[1]).astype(np.float32)\n",
        "                spec = spec + noise  \n",
        "            if apply_peak_shift:\n",
        "                if random.uniform(0, 1) > 0.5:   # Shift\n",
        "                    temp = np.zeros(spec.shape).astype(np.float32)\n",
        "                    shift_count = np.random.randint(1, 30)\n",
        "\n",
        "                    if random.uniform(0, 1) > 0.5:   # Shift right\n",
        "                        temp[:, shift_count:] = spec[:, :-shift_count]\n",
        "                    else:\n",
        "                        temp[:, :-shift_count] = spec[:, shift_count:]                \n",
        "                    spec = temp\n",
        "        spec = spec.astype(np.float32)\n",
        "        spec = spec.flatten()\n",
        "        spec = spec/max_Intensity\n",
        "        spectra_augment[idx] = spec\n",
        "    return spectra_augment"
      ]
    },
    {
      "cell_type": "code",
      "execution_count": null,
      "metadata": {
        "id": "tP2FaD1B5CzT",
        "outputId": "43619d62-25b4-42d3-e38b-b06e67b499ba"
      },
      "outputs": [
        {
          "name": "stdout",
          "output_type": "stream",
          "text": [
            "Total number of smaples: \n",
            "2112\n",
            "Class 0 Count: 484\n",
            "Class 1 Count: 633\n",
            "Class 2 Count: 753\n",
            "Class 3 Count: 242\n"
          ]
        }
      ],
      "source": [
        "# Load data\n",
        "Y = []\n",
        "data = []\n",
        "   \n",
        "# path = 'datasets/dielectric_dataset/'\n",
        "# for i in range(4):\n",
        "#     curr_data = load_file(path + \"dielectric\" + str(i) + \".txt\")    \n",
        "#     data.append(curr_data)\n",
        "#     count = len(curr_data)\n",
        "#     Y.extend([i] * count)\n",
        "\n",
        "path = 'datasets/charge_dataset/'\n",
        "for i in range(4):\n",
        "    curr_data = load_file(path + \"c\" + str(i) + \".txt\")    \n",
        "    data.append(curr_data)\n",
        "    count = len(curr_data)\n",
        "    Y.extend([i] * count)\n",
        "\n",
        "\n",
        "\n",
        "X = np.vstack(data)\n",
        "Y = np.array(Y)\n",
        "\n",
        "count = collections.defaultdict(int)\n",
        "for num in Y:\n",
        "    count[num] += 1\n",
        "\n",
        "classes_count = len(count.keys())\n",
        "print(\"Total number of smaples: \")\n",
        "print(sum(v for v in count.values()))\n",
        "for i in sorted(count.keys()):\n",
        "    print(\"Class\", i, \"Count:\", count[i])\n",
        "\n"
      ]
    },
    {
      "cell_type": "markdown",
      "source": [
        "# Machine learning algorithms."
      ],
      "metadata": {
        "id": "Uhocpcie_Z6m"
      }
    },
    {
      "cell_type": "code",
      "execution_count": null,
      "metadata": {
        "id": "qwHy0hRO5CzV"
      },
      "outputs": [],
      "source": [
        "# Machine learning algorithms. \n",
        "\n",
        "def KNN(xtrain, ytrain, xtest, ytest):\n",
        "    classifier = KNeighborsClassifier(n_neighbors= 7, p = 4)\n",
        "    classifier.fit(xtrain, ytrain)\n",
        "    ypred = classifier.predict(xtest)\n",
        "    accuracy = accuracy_score(ytest, ypred)\n",
        "    return accuracy\n",
        "\n",
        "def decision_tree(xtrain, ytrain, xtest, ytest, rs = 0):\n",
        "    classifier = DecisionTreeClassifier(criterion = \"entropy\", \n",
        "            max_depth = 3, min_samples_leaf = 0.1, min_samples_split = 0.1, random_state = rs) \n",
        "    classifier.fit(xtrain, ytrain)\n",
        "    ypred = classifier.predict(xtest)\n",
        "    accuracy = accuracy_score(ytest, ypred)\n",
        "    return accuracy\n",
        "\n",
        "def SVM(xtrain, ytrain, xtest, ytest, rs = 0):\n",
        "    svm_model = SVC(kernel = 'rbf', C = 27, random_state = rs).fit(xtrain, ytrain)    \n",
        "    accuracy = svm_model.score(xtest, ytest) \n",
        "    return accuracy\n",
        "\n",
        "def naive_bayes(xtrain, ytrain, xtest, ytest):\n",
        "    gnb = GaussianNB(var_smoothing = 5).fit(xtrain, ytrain) \n",
        "    accuracy = gnb.score(xtest, ytest)  \n",
        "    return accuracy\n",
        "\n",
        "\n",
        "def random_forest(xtrain, ytrain, xtest, ytest, rs = 0):\n",
        "    randomForest = RandomForestClassifier(n_estimators=300, max_depth=7)\n",
        "    randomForest.fit(xtrain, ytrain)\n",
        "    ypred = randomForest.predict(xtest)  \n",
        "    accuracy = accuracy_score(ytest, ypred)\n",
        "    return accuracy"
      ]
    },
    {
      "cell_type": "markdown",
      "source": [
        "# Training without noise variation"
      ],
      "metadata": {
        "id": "c93OEGzt_spZ"
      }
    },
    {
      "cell_type": "code",
      "execution_count": null,
      "metadata": {
        "id": "lrxzs2tL5CzX"
      },
      "outputs": [],
      "source": [
        "accuracy =[]\n",
        "dup = 100\n",
        "for i in range(dup):\n",
        "    tmp = []\n",
        "    xtrain, xtest, ytrain, ytest = train_test_split(X, Y, stratify=Y, train_size=0.8, shuffle=True)\n",
        "    xtrain = data_augment(xtrain, augmentation=False, noiselevel = 0, apply_peak_shift=False)\n",
        "    xtest = data_augment(xtest, augmentation= False, noiselevel = 0, apply_peak_shift=False)\n",
        "    knn = KNN(xtrain, ytrain, xtest, ytest)     \n",
        "    dt = decision_tree(xtrain, ytrain, xtest, ytest)       \n",
        "    svm = SVM(xtrain, ytrain, xtest, ytest)   \n",
        "    nb = naive_bayes(xtrain, ytrain, xtest, ytest)     \n",
        "    rf = random_forest(xtrain, ytrain, xtest, ytest)\n",
        "    tmp = [svm, rf, knn, dt, nb]\n",
        "    accuracy.append(tmp)\n"
      ]
    },
    {
      "cell_type": "code",
      "execution_count": null,
      "metadata": {
        "id": "CeFFFyu65Cze",
        "outputId": "4131cd4c-4c08-433c-e70a-58399ba528dd"
      },
      "outputs": [
        {
          "name": "stdout",
          "output_type": "stream",
          "text": [
            "[0.99901497 0.98739165 0.9858156  0.94483846 0.46513002]\n",
            "[0.00151323 0.00620489 0.00570976 0.01206729 0.00399392]\n"
          ]
        },
        {
          "data": {
            "image/png": "[encoded data removed]",
            "text/plain": [
              "<Figure size 288x288 with 1 Axes>"
            ]
          },
          "metadata": {
            "needs_background": "light"
          },
          "output_type": "display_data"
        },
        {
          "name": "stdout",
          "output_type": "stream",
          "text": [
            "[[1.0, 0.983451536643026, 0.983451536643026, 0.933806146572104, 0.47044917257683216], [1.0, 0.9929078014184397, 0.9905437352245863, 0.9550827423167849, 0.4657210401891253], [1.0, 0.9858156028368794, 0.9810874704491725, 0.9361702127659575, 0.4657210401891253], [1.0, 0.9976359338061466, 0.9976359338061466, 0.9527186761229315, 0.46808510638297873], [0.9976359338061466, 0.9810874704491725, 0.9858156028368794, 0.9598108747044918, 0.4657210401891253], [0.9952718676122931, 0.9858156028368794, 0.9787234042553191, 0.9408983451536643, 0.46099290780141844], [1.0, 0.9905437352245863, 0.9858156028368794, 0.9385342789598109, 0.4657210401891253], [1.0, 0.9763593380614657, 0.9881796690307328, 0.9196217494089834, 0.4562647754137116], [1.0, 0.9810874704491725, 0.983451536643026, 0.9385342789598109, 0.46099290780141844], [0.9976359338061466, 0.9858156028368794, 0.9858156028368794, 0.9479905437352246, 0.46335697399527187], [1.0, 0.9929078014184397, 0.9929078014184397, 0.9645390070921985, 0.46808510638297873], [0.9976359338061466, 0.9952718676122931, 0.9763593380614657, 0.950354609929078, 0.47044917257683216]]\n"
          ]
        }
      ],
      "source": [
        "acc_mean = np.mean(accuracy, axis = 0)\n",
        "acc_std = np.std(accuracy, axis = 0)\n",
        "print(acc_mean)\n",
        "print(acc_std)\n",
        "\n",
        "# evalute results of different optimized models\n",
        "models = ['SVM', 'RF', 'KNN', 'DT','NB']\n",
        "colors = ['#cb416b', 'chocolate', 'goldenrod', 'olivedrab', 'royalblue']\n",
        "f2 = plt.figure(figsize=(4,4)) \n",
        "barlist = plt.bar(models, np.array(acc_mean) * 100)\n",
        "for i in range(5):\n",
        "    barlist[i].set_color(colors[i])\n",
        "plt.legend()\n",
        "plt.ylim([20, 105])\n",
        "plt.ylabel(\"Accuracy (%)\")\n",
        "plt.rcParams.update({'font.size': 14})\n",
        "plt.show()"
      ]
    },
    {
      "cell_type": "markdown",
      "metadata": {
        "id": "4xQ8NOxETR8E"
      },
      "source": [
        "# Training with diffferent noise levels"
      ]
    },
    {
      "cell_type": "code",
      "execution_count": null,
      "metadata": {
        "id": "FT4dsNwA5Czh"
      },
      "outputs": [],
      "source": [
        "def train_noise(dup):\n",
        "\n",
        "    num_iter = 100\n",
        "    noise = ((dup // num_iter)* 2) * 0.01  # noise level from 0 to 60, with a step of 2\n",
        "    start = time.time()     \n",
        "    xtrain, xtest, ytrain, ytest = train_test_split(X, Y, stratify=Y, train_size=0.8, shuffle=True)\n",
        "    xtrain = data_augment(xtrain, augmentation=True, noiselevel = noise, apply_peak_shift=False)\n",
        "    xtest = data_augment(xtest, augmentation= False, noiselevel = 0, apply_peak_shift=False)\n",
        "    start = time.time() \n",
        "\n",
        "    knn = KNN(xtrain, ytrain, xtest, ytest)     \n",
        "    dt = decision_tree(xtrain, ytrain, xtest, ytest)       \n",
        "    svm = SVM(xtrain, ytrain, xtest, ytest)   \n",
        "    nb = naive_bayes(xtrain, ytrain, xtest, ytest)     \n",
        "    rf = random_forest(xtrain, ytrain, xtest, ytest)\n",
        "    print(\"time for training:\", time.time() - start)\n",
        "\n",
        "    tmp = [noise, svm, rf, knn, dt, nb]\n",
        "    return tmp\n",
        "   \n",
        "   "
      ]
    },
    {
      "cell_type": "code",
      "execution_count": null,
      "metadata": {
        "id": "mKtIae9cH5E3",
        "scrolled": true
      },
      "outputs": [],
      "source": [
        "import multiprocessing\n",
        "\n",
        "\n",
        "a_pool = multiprocessing.Pool()\n",
        "# global num_iter\n",
        "num_iter = 100\n",
        "maxNoise = 30\n",
        "dup = num_iter * maxNoise\n",
        "\n",
        "\n",
        "accuracy_noise =[]\n",
        "accuracy_noise = a_pool.map(train_noise, range(dup))\n",
        "a_pool.close()\n",
        "a_pool.join()\n",
        "\n"
      ]
    },
    {
      "cell_type": "code",
      "execution_count": null,
      "metadata": {
        "scrolled": true,
        "id": "bvMAmE3P5Czk",
        "outputId": "8a9be1b8-87c1-439e-cc1e-5016baebbc8a"
      },
      "outputs": [
        {
          "name": "stdout",
          "output_type": "stream",
          "text": [
            "[0.0, 0.02, 0.04, 0.06, 0.08, 0.1, 0.12, 0.14, 0.16, 0.18, 0.2, 0.22, 0.24, 0.26, 0.28, 0.3, 0.32, 0.34, 0.36, 0.38, 0.4, 0.42, 0.44, 0.46, 0.48, 0.5, 0.52, 0.54, 0.56, 0.58]\n",
            "(30, 6)\n",
            "(30, 6)\n",
            "[[0.         0.99822695 0.98730496 0.98619385 0.94565012 0.46737589]\n",
            " [0.02       0.99283688 0.95508274 0.98522459 0.92562648 0.46678487]\n",
            " [0.04       0.97212766 0.92572104 0.94853428 0.91212766 0.46619385]\n",
            " [0.06       0.95049645 0.84361702 0.85172577 0.89427896 0.46591017]\n",
            " [0.08       0.92106383 0.73794326 0.78952719 0.87361702 0.46579196]\n",
            " [0.1        0.85323877 0.66515366 0.7421513  0.81917258 0.4644208 ]\n",
            " [0.12       0.81747045 0.63881797 0.69730496 0.76624113 0.4634279 ]\n",
            " [0.14       0.80314421 0.62716312 0.67       0.71073286 0.46234043]\n",
            " [0.16       0.81536643 0.62385343 0.62846336 0.65943262 0.46255319]\n",
            " [0.18       0.80997636 0.61919622 0.61184397 0.62782506 0.46196217]\n",
            " [0.2        0.79108747 0.61338061 0.59560284 0.59522459 0.46186761]\n",
            " [0.22       0.76933806 0.60898345 0.56971631 0.55243499 0.4606383 ]\n",
            " [0.24       0.76352246 0.59917258 0.55432624 0.56326241 0.45943262]\n",
            " [0.26       0.74491726 0.59411348 0.52539007 0.55198582 0.45900709]\n",
            " [0.28       0.71475177 0.58262411 0.49489362 0.54971631 0.46167849]\n",
            " [0.3        0.68541371 0.57338061 0.48236407 0.53553191 0.45803783]\n",
            " [0.32       0.67508274 0.55900709 0.49654846 0.5348227  0.45295508]\n",
            " [0.34       0.65330969 0.54092199 0.48555556 0.51399527 0.45236407]\n",
            " [0.36       0.63361702 0.51832151 0.47349882 0.53827423 0.4521513 ]\n",
            " [0.38       0.61962175 0.49425532 0.46905437 0.53021277 0.45054374]\n",
            " [0.4        0.6006383  0.46730496 0.46933806 0.55248227 0.4535461 ]\n",
            " [0.42       0.58446809 0.42607565 0.45460993 0.50926714 0.45574468]\n",
            " [0.44       0.57004728 0.38806147 0.4434279  0.53283688 0.45680851]\n",
            " [0.46       0.54352246 0.38654846 0.38955083 0.48879433 0.4336643 ]\n",
            " [0.48       0.52742317 0.37016548 0.37243499 0.4787234  0.41737589]\n",
            " [0.5        0.51685579 0.35825059 0.36976359 0.46765957 0.4121513 ]\n",
            " [0.52       0.50434988 0.35985816 0.36919622 0.50094563 0.40522459]\n",
            " [0.54       0.49806147 0.35739953 0.35971631 0.48673759 0.3987234 ]\n",
            " [0.56       0.5148227  0.35877069 0.36004728 0.47685579 0.38115839]\n",
            " [0.58       0.47664303 0.356974   0.34562648 0.46016548 0.37316785]]\n",
            "print mean values\n",
            "[[0.00000000e+00 1.54570885e-03 4.84091261e-03 4.51926360e-03\n",
            "  1.04367298e-02 6.29481180e-03]\n",
            " [2.00000000e-02 4.15504390e-03 1.16967535e-02 4.44010401e-03\n",
            "  1.24755516e-02 6.38188415e-03]\n",
            " [4.00000000e-02 6.24842865e-03 1.13039945e-02 3.52727153e-02\n",
            "  1.22888472e-02 6.11009361e-03]\n",
            " [6.00000000e-02 6.23522179e-03 4.22187739e-02 7.36944921e-02\n",
            "  1.81405076e-02 6.25187127e-03]\n",
            " [8.00000000e-02 3.70033304e-02 4.72593034e-02 8.18270588e-02\n",
            "  1.99967582e-02 6.66528329e-03]\n",
            " [1.00000000e-01 8.35306451e-02 1.61329808e-02 9.68253261e-02\n",
            "  6.66402501e-02 6.46021911e-03]\n",
            " [1.20000000e-01 9.33176285e-02 1.09595824e-02 9.67985776e-02\n",
            "  1.09782958e-01 6.44358757e-03]\n",
            " [1.40000000e-01 1.00187248e-01 7.76404113e-03 1.03640562e-01\n",
            "  1.07856110e-01 5.93616033e-03]\n",
            " [1.60000000e-01 9.88352152e-02 7.26268684e-03 1.06569692e-01\n",
            "  9.20006483e-02 3.84435254e-03]\n",
            " [1.80000000e-01 1.03851025e-01 8.07722232e-03 1.03531361e-01\n",
            "  6.77429799e-02 3.41106162e-03]\n",
            " [2.00000000e-01 1.06329724e-01 1.05957647e-02 9.96513884e-02\n",
            "  7.74999745e-02 4.02106742e-03]\n",
            " [2.20000000e-01 1.19608786e-01 8.54994861e-03 1.01590224e-01\n",
            "  5.17291825e-02 4.33823861e-03]\n",
            " [2.40000000e-01 1.19471427e-01 1.29717025e-02 9.82936990e-02\n",
            "  5.73894975e-02 5.34111566e-03]\n",
            " [2.60000000e-01 1.19237321e-01 1.55119316e-02 9.57351190e-02\n",
            "  4.92549036e-02 6.00603102e-03]\n",
            " [2.80000000e-01 1.14567838e-01 1.93633474e-02 9.33421353e-02\n",
            "  6.26048785e-02 1.52635033e-02]\n",
            " [3.00000000e-01 1.12739566e-01 2.00887768e-02 1.22357233e-01\n",
            "  6.20444252e-02 2.07752195e-02]\n",
            " [3.20000000e-01 1.19365127e-01 2.06376886e-02 1.33943459e-01\n",
            "  6.52583805e-02 1.10783683e-02]\n",
            " [3.40000000e-01 1.10128635e-01 2.07222101e-02 1.30776627e-01\n",
            "  4.71951697e-02 1.27325322e-02]\n",
            " [3.60000000e-01 1.06114702e-01 2.97616593e-02 1.25872837e-01\n",
            "  7.33307993e-02 1.69937392e-02]\n",
            " [3.80000000e-01 1.01635877e-01 2.96881067e-02 1.21928118e-01\n",
            "  5.28347163e-02 2.09434918e-02]\n",
            " [4.00000000e-01 1.01103710e-01 3.26704283e-02 1.16955329e-01\n",
            "  5.64497228e-02 4.24998023e-02]\n",
            " [4.20000000e-01 1.04776339e-01 3.56054661e-02 1.06903115e-01\n",
            "  7.80193279e-02 6.35301434e-02]\n",
            " [4.40000000e-01 1.10701248e-01 2.74402307e-02 1.01153448e-01\n",
            "  6.65768177e-02 7.88449604e-02]\n",
            " [4.60000000e-01 7.56139800e-02 2.61066025e-02 1.46420489e-01\n",
            "  7.16379309e-02 5.66777857e-02]\n",
            " [4.80000000e-01 6.80403550e-02 1.47794037e-02 1.48940080e-01\n",
            "  7.89254749e-02 6.22098752e-02]\n",
            " [5.00000000e-01 6.61462637e-02 3.07183090e-03 1.54579958e-01\n",
            "  9.21969934e-02 7.25658349e-02]\n",
            " [5.20000000e-01 6.69078514e-02 6.63271202e-03 1.61167273e-01\n",
            "  7.81061855e-02 7.68536758e-02]\n",
            " [5.40000000e-01 6.88319948e-02 1.68430384e-03 1.76089362e-01\n",
            "  6.99722820e-02 7.11424627e-02]\n",
            " [5.60000000e-01 8.51095711e-02 6.26473081e-03 1.61822187e-01\n",
            "  7.59209801e-02 2.97738253e-02]\n",
            " [5.80000000e-01 7.06581222e-02 2.77555756e-16 1.73573018e-01\n",
            "  8.48659429e-02 4.12790261e-02]]\n"
          ]
        },
        {
          "ename": "NameError",
          "evalue": "name 'num_iter' is not defined",
          "output_type": "error",
          "traceback": [
            "\u001b[0;31m---------------------------------------------------------------------------\u001b[0m",
            "\u001b[0;31mNameError\u001b[0m                                 Traceback (most recent call last)",
            "\u001b[0;32m<ipython-input-7-eaf941d29639>\u001b[0m in \u001b[0;36m<module>\u001b[0;34m\u001b[0m\n\u001b[1;32m     21\u001b[0m \u001b[0mprint\u001b[0m\u001b[0;34m(\u001b[0m\u001b[0;34m\"print mean values\"\u001b[0m\u001b[0;34m)\u001b[0m\u001b[0;34m\u001b[0m\u001b[0;34m\u001b[0m\u001b[0m\n\u001b[1;32m     22\u001b[0m \u001b[0mprint\u001b[0m\u001b[0;34m(\u001b[0m\u001b[0mystd\u001b[0m\u001b[0;34m)\u001b[0m\u001b[0;34m\u001b[0m\u001b[0;34m\u001b[0m\u001b[0m\n\u001b[0;32m---> 23\u001b[0;31m \u001b[0mprint\u001b[0m\u001b[0;34m(\u001b[0m\u001b[0mnum_iter\u001b[0m\u001b[0;34m)\u001b[0m\u001b[0;34m\u001b[0m\u001b[0;34m\u001b[0m\u001b[0m\n\u001b[0m",
            "\u001b[0;31mNameError\u001b[0m: name 'num_iter' is not defined"
          ]
        }
      ],
      "source": [
        "accs = collections.defaultdict(list)\n",
        "for l in accuracy_noise:\n",
        "    accs[l[0]].append(l[1:])\n",
        "    \n",
        "ymean = []\n",
        "ystd = []\n",
        "noises = sorted(accs.keys())\n",
        "print(noises)\n",
        "for noise in noises:\n",
        "    tmpmean = np.mean(accs[noise], axis = 0)\n",
        "    tmpstd = np.std(accs[noise], axis = 0)\n",
        "    ymean.append(np.concatenate((np.array([noise]), tmpmean), axis = 0))\n",
        "    ystd.append(np.concatenate((np.array([noise]), tmpstd), axis = 0))\n",
        "    \n",
        "ymean = np.reshape(np.array(ymean), [len(noises), 6])\n",
        "ystd = np.reshape(np.array(ystd), [len(noises), 6])\n",
        "print(ystd.shape)\n",
        "print(ymean.shape)\n",
        "print(ymean)\n",
        "print(\"print mean values\")\n",
        "print(ystd)\n",
        "print(num_iter)"
      ]
    },
    {
      "cell_type": "code",
      "execution_count": null,
      "metadata": {
        "scrolled": true,
        "id": "YbadSLMz5Czl",
        "outputId": "46e0326f-246b-48a4-e476-4f47cfdff62a"
      },
      "outputs": [
        {
          "data": {
            "image/png": "[encoded data removed]",
            "text/plain": [
              "<Figure size 288x288 with 1 Axes>"
            ]
          },
          "metadata": {
            "needs_background": "light"
          },
          "output_type": "display_data"
        }
      ],
      "source": [
        "# plot accuracies versus noise\n",
        "\n",
        "\n",
        "def plot_acc(noises, ymean, ystd):\n",
        "#     colors = ['skyblue', 'lightsteelblue', 'wheat', 'mediumaquamarine', 'pink']\n",
        "#     colors = ['skyblue', 'slategray',  'darkkhaki', 'cadetblue', 'lightsteelblue']   # for deep learning\n",
        "#     colors = ['#cb416b', 'gray',  'goldenrod', 'olivedrab', 'royalblue',]\n",
        "    colors = ['#cb416b', 'chocolate', 'goldenrod', 'olivedrab', 'royalblue']\n",
        "    model_name = ['SVM',  'Random forest', 'KNN', 'Decision Tree', 'Naive Bayes']\n",
        "\n",
        "    f = plt.figure(figsize=(4,4))\n",
        "    for i in range(5):\n",
        "        plt.errorbar(np.array(noises) * 100 , ymean[:, i + 1] * 100, yerr = ystd[:,i + 1] * 100, color=colors[i], fmt='-s', mfc=colors[i], mec=colors[i], ecolor = colors[i],capthick=1,\n",
        "                 label = model_name[i])\n",
        "    plt.ylim([0, 105])\n",
        "    plt.xlim([0, 60])\n",
        "    plt.ylabel(\"Accuracy (%)\")\n",
        "    plt.xlabel(\"Noise level (%)\")\n",
        "    plt.rcParams.update({'font.size': 14})\n",
        "    plt.legend(loc=\"lower right\") \n",
        "    plt.savefig('dielectric_dataset_noiselevel_nopeakshift_plot.png', bbox_inches = 'tight')  \n",
        "    plt.show()\n",
        "plot_acc(noises, ymean, ystd)\n"
      ]
    },
    {
      "cell_type": "code",
      "execution_count": null,
      "metadata": {
        "id": "ng_ksCTGxo4Z"
      },
      "outputs": [],
      "source": [
        "s# Get ROC curve and AUC score\n",
        "\n",
        "from sklearn.metrics import roc_curve, roc_auc_score, auc\n",
        "from sklearn.multiclass import OneVsRestClassifier\n",
        "from itertools import cycle\n",
        "from sklearn.preprocessing import label_binarize\n",
        "\n",
        "KNN_classifier = KNeighborsClassifier(n_neighbors= 1, p = 1)\n",
        "dt_classifier = DecisionTreeClassifier(criterion = \"entropy\", \n",
        "            max_depth = 3, min_samples_leaf = 0.1, min_samples_split = 0.1, random_state = 0) \n",
        "svm_classifier = SVC(kernel = 'linear', C = 3, random_state = 0, probability=True)\n",
        "nb_classifier = GaussianNB(var_smoothing = 0.01)\n",
        "rt_classifier = RandomForestClassifier(n_estimators=300, random_state = 0)\n",
        "\n",
        "\n",
        "xtrain, xtest, ytrain, ytest = train_test_split(X, Y, stratify=Y, train_size=0.8, shuffle=True)\n",
        "y_test = label_binarize(ytest, classes=[0, 1, 2, 3])   # for different charge doping classes\n",
        "numClasses = len(np.unique(ytest))\n"
      ]
    },
    {
      "cell_type": "code",
      "execution_count": null,
      "metadata": {
        "id": "r7H7Jp6r5Czn"
      },
      "outputs": [],
      "source": [
        "\n",
        "models = [KNN_classifier, svm_classifier, rt_classifier, dt_classifier, nb_classifier]\n",
        "colors = ['royalblue', 'goldenrod', 'olivedrab', 'chocolate', 'purple']\n",
        "model_name = ['KNN', 'SVM', 'Random forest', 'Decision Tree', 'Naive Bayes']\n",
        "all_rates = []\n",
        "for m in range(5):\n",
        "\n",
        "    classifier = OneVsRestClassifier(models[m])\n",
        "    classifier.fit(xtrain, ytrain)\n",
        "    p_probs = classifier.predict_proba(xtest)\n",
        "# Compute ROC curve and ROC area for each class\n",
        "\n",
        "    lw = 2\n",
        "    fpr = dict()\n",
        "    tpr = dict()\n",
        "    roc_auc = dict()\n",
        "    for i in range(numClasses):\n",
        "        fpr[i], tpr[i], _ = roc_curve(y_test[:, i], p_probs[:, i])\n",
        "        fpr[i] = np.array(fpr[i])\n",
        "        tpr[i] = np.array(tpr[i])\n",
        "        roc_auc[i] = auc(fpr[i], tpr[i])\n",
        "    all_rates.append([fpr, tpr, roc_auc])\n",
        "    plt.figure\n",
        "    for i, color in zip(range(numClasses), colors):\n",
        "      plt.plot(fpr[i], tpr[i], color=color, lw=lw,\n",
        "              label='ROC curve of class {0} (area = {1:0.2f})'\n",
        "              ''.format(i, roc_auc[i]))\n",
        "\n",
        "    plt.plot([0, 1], [0, 1], 'k--', lw=lw)\n",
        "    plt.xlim([-0.05, 1.0])\n",
        "    plt.ylim([0.0, 1.05])\n",
        "    plt.xlabel('False Positive Rate')\n",
        "    plt.ylabel('True Positive Rate')\n",
        "    plt.title('ROC curves of different classes, model: ' + model_name[m])\n",
        "    plt.legend(loc=\"lower right\")\n",
        "    plt.show()\n",
        "# plot different model result ROC of a class\n",
        "\n",
        "c = 2\n",
        "print(len(all_rates))\n",
        "plt.figure\n",
        "for m in range(5):\n",
        "    fpr = all_rates[m][0][c]\n",
        "    tpr = all_rates[m][1][c]\n",
        "    tmp_auc = all_rates[m][2][c]\n",
        "    color = colors[m]\n",
        "    plt.plot(fpr, tpr, color=color, lw=lw,\n",
        "              label= model_name[m])\n",
        "plt.plot([0, 1], [0, 1], 'k--', lw=lw, label='Random Prediction')\n",
        "plt.xlim([-0.05, 1.05])\n",
        "plt.ylim([-0.05, 1.05])\n",
        "plt.xlabel('False Positive Rate')\n",
        "plt.ylabel('True Positive Rate')\n",
        "# plt.title('ROC curves of different classes, model: ' + model_name[m])\n",
        "plt.legend(loc=\"lower right\")\n",
        "plt.show()\n",
        "\n",
        "\n",
        "plt.figure\n",
        "for m in range(5):\n",
        "    fpr = all_rates[m][0][c]\n",
        "    tpr = all_rates[m][1][c]\n",
        "    tmp_auc = all_rates[m][2][c]\n",
        "    color = colors[m]\n",
        "    plt.plot(fpr, tpr, color=color, lw=lw,\n",
        "              label= model_name[m])\n",
        "plt.plot([0, 1], [0, 1], 'k--', lw=lw, label='Random Prediction')\n",
        "plt.ylim([0.95, 1.02])\n",
        "plt.xlim([-0.05, 0.25])\n",
        "plt.xlabel('False Positive Rate')\n",
        "plt.ylabel('True Positive Rate')\n",
        "# plt.title('ROC curves of different classes, model: ' + model_name[m])\n",
        "plt.legend(loc=\"lower right\")\n",
        "plt.show()\n"
      ]
    }
  ],
  "metadata": {
    "accelerator": "GPU",
    "colab": {
      "collapsed_sections": [],
      "name": "machine_learning_models_applications.ipynb",
      "provenance": [],
      "toc_visible": true,
      "include_colab_link": true
    },
    "kernelspec": {
      "display_name": "Python 3",
      "language": "python",
      "name": "python3"
    },
    "language_info": {
      "codemirror_mode": {
        "name": "ipython",
        "version": 3
      },
      "file_extension": ".py",
      "mimetype": "text/x-python",
      "name": "python",
      "nbconvert_exporter": "python",
      "pygments_lexer": "ipython3",
      "version": "3.8.5"
    }
  },
  "nbformat": 4,
  "nbformat_minor": 0
}