{
  "nbformat": 4,
  "nbformat_minor": 0,
  "metadata": {
    "colab": {
      "name": "CNN_Spectrum_classification.ipynb",
      "provenance": [],
      "collapsed_sections": [],
      "toc_visible": true,
      "include_colab_link": true
    },
    "kernelspec": {
      "name": "python3",
      "display_name": "Python 3"
    },
    "accelerator": "GPU"
  },
  "cells": [
    {
      "cell_type": "markdown",
      "metadata": {
        "id": "view-in-github",
        "colab_type": "text"
      },
      "source": [
        "<a href=\"https://colab.research.google.com/github/zhuofachen/Spec_Classification/blob/main/CNN_Benchmarks.ipynb\" target=\"_parent\"><img src=\"https://colab.research.google.com/assets/colab-badge.svg\" alt=\"Open In Colab\"/></a>"
      ]
    },
    {
      "cell_type": "markdown",
      "metadata": {
        "id": "CH85VO8MYwfH"
      },
      "source": [
        "# Setup"
      ]
    },
    {
      "cell_type": "code",
      "metadata": {
        "id": "dMz801qMPXfG"
      },
      "source": [
        "import random\n",
        "import collections\n",
        "\n",
        "import numpy as np\n",
        "\n",
        "from sklearn.model_selection import train_test_split\n",
        "from sklearn.metrics import confusion_matrix\n",
        "\n",
        "import torch\n",
        "import torch.nn as nn\n",
        "import torch.nn.functional as F\n",
        "from torch.utils.data import Dataset, DataLoader\n",
        "import torchvision.transforms as transforms\n",
        "\n",
        "from PIL import Image\n",
        "import matplotlib.pyplot as plt\n",
        "from tqdm import tqdm"
      ],
      "execution_count": null,
      "outputs": []
    },
    {
      "cell_type": "code",
      "metadata": {
        "id": "cFfBchIgtrbP"
      },
      "source": [
        "seed = 42\n",
        "np.random.seed(seed)\n",
        "random.seed(seed)\n",
        "# os.environ['PYTHONHASHSEED'] = str(seed)\n",
        "torch.backends.cudnn.benchmark = False\n",
        "torch.backends.cudnn.deterministic = True\n",
        "torch.manual_seed(seed)\n",
        "torch.cuda.manual_seed(seed)\n",
        "torch.cuda.manual_seed_all(seed)"
      ],
      "execution_count": null,
      "outputs": []
    },
    {
      "cell_type": "markdown",
      "metadata": {
        "id": "mimggoykPQQ_"
      },
      "source": [
        "# Dataset"
      ]
    },
    {
      "cell_type": "code",
      "metadata": {
        "id": "V8Yvp7_9kqnT"
      },
      "source": [
        "def load_file(filename):\n",
        "    file = open(filename) \n",
        "\n",
        "    lines = file.readlines()\n",
        "        \n",
        "    data = []\n",
        "    for line in lines:\n",
        "        arr = []\n",
        "        for num in line.split(\",\"):\n",
        "            arr.append(float(num))\n",
        "        data.append(arr)\n",
        "\n",
        "    return np.array(data)"
      ],
      "execution_count": null,
      "outputs": []
    },
    {
      "cell_type": "code",
      "metadata": {
        "id": "bPa1YJPmQDMO"
      },
      "source": [
        "class CustomDataset(Dataset):\n",
        "    def __init__(self, spectra, labels, augmentation=None):\n",
        "        self.spectra = spectra\n",
        "        self.labels = labels\n",
        "        self.augmentation = augmentation\n",
        "\n",
        "    def __len__(self):\n",
        "        return len(self.spectra)\n",
        "\n",
        "    def __getitem__(self, idx):\n",
        "        if torch.is_tensor(idx):\n",
        "            idx = idx.tolist()\n",
        "\n",
        "        spec = self.spectra[idx].reshape(1, -1)\n",
        "        max_Intensity = np.max(spec, axis = 1)\n",
        "        if self.augmentation:\n",
        "            \n",
        "            if random.uniform(0, 1) > 0.5: # noise\n",
        "                noise = np.random.normal(0, max_Intensity/40, spec.shape[1]).astype(np.float32)\n",
        "                spec = spec + noise\n",
        "            \n",
        "            # if random.uniform(0, 1) > 0.5: # dropout\n",
        "            #     indices = np.random.choice(np.arange(spec.size), replace=False, size=int(spec.size * 0.2))\n",
        "            #     spec[:, indices] = 0\n",
        "            \n",
        "            if random.uniform(0, 1) > 0.5:   # Shift\n",
        "                temp = np.zeros(spec.shape).astype(np.float32)\n",
        "                shift_count = np.random.randint(1, 30)\n",
        "            \n",
        "                if random.uniform(0, 1) > 0.5:   # Shift right\n",
        "                    temp[:, shift_count:] = spec[:, :-shift_count]\n",
        "                else:\n",
        "                    temp[:, :-shift_count] = spec[:, shift_count:]\n",
        "                \n",
        "                spec = temp\n",
        "\n",
        "        label = torch.tensor(self.labels[idx]).type(torch.long)\n",
        "        spec = spec.astype(np.float32)\n",
        "        sample = (spec/max_Intensity, label)\n",
        "\n",
        "        return sample"
      ],
      "execution_count": null,
      "outputs": []
    },
    {
      "cell_type": "code",
      "metadata": {
        "id": "nnhaWqJ3kvBE",
        "colab": {
          "base_uri": "https://localhost:8080/"
        },
        "outputId": "8a2c216c-cf0f-4c77-b8c5-9394051c0324"
      },
      "source": [
        "# Load data\n",
        "Y = []\n",
        "data = []\n",
        "# path = 'datasets/dielectric_dataset/'\n",
        "# for i in range(4):\n",
        "#     curr_data = load_file(path + \"dielectric\" + str(i) + \".txt\")    \n",
        "#     data.append(curr_data)\n",
        "#     count = len(curr_data)\n",
        "#     Y.extend([i] * count)\n",
        "\n",
        "path = 'datasets/charge_dataset/'\n",
        "for i in range(4):\n",
        "    curr_data = load_file(path + \"c\" + str(i) + \".txt\")    \n",
        "    data.append(curr_data)\n",
        "    count = len(curr_data)\n",
        "    Y.extend([i] * count)\n",
        "\n",
        "X = np.vstack(data)\n",
        "Y = np.array(Y)\n",
        "count = collections.defaultdict(int)\n",
        "for num in Y:\n",
        "    count[num] += 1\n",
        "classes_count = len(count.keys())\n",
        "\n",
        "for i in sorted(count.keys()):\n",
        "    print(\"Class\", i, \"Count:\", count[i])"
      ],
      "execution_count": null,
      "outputs": [
        {
          "output_type": "stream",
          "text": [
            "Class 0 Count: 1355\n",
            "Class 1 Count: 1386\n",
            "Class 2 Count: 727\n",
            "Class 3 Count: 951\n"
          ],
          "name": "stdout"
        }
      ]
    },
    {
      "cell_type": "code",
      "metadata": {
        "colab": {
          "base_uri": "https://localhost:8080/"
        },
        "id": "yCXt_xb4QNTo",
        "outputId": "e7b2c7f9-8541-4b09-d495-90c831a729a1"
      },
      "source": [
        "# Split data into train, val, & test sets\n",
        "xtrain, xval, ytrain, yval = train_test_split(X, Y, stratify=Y, train_size=0.8, random_state=seed, shuffle=True)\n",
        "\n",
        "print(\"X shape:\\t\", X.shape)\n",
        "print(\"xtrain shape:\\t\", xtrain.shape)\n",
        "print(\"xval shape:\\t\", xval.shape)\n",
        "print(\"Y shape:\\t\", Y.shape)\n",
        "print(\"ytrain shape:\\t\", ytrain.shape)\n",
        "print(\"yval shape:\\t\", yval.shape)"
      ],
      "execution_count": null,
      "outputs": [
        {
          "output_type": "stream",
          "text": [
            "X shape:\t (4419, 728)\n",
            "xtrain shape:\t (3535, 728)\n",
            "xval shape:\t (884, 728)\n",
            "\n",
            "Y shape:\t (4419,)\n",
            "ytrain shape:\t (3535,)\n",
            "yval shape:\t (884,)\n"
          ],
          "name": "stdout"
        }
      ]
    },
    {
      "cell_type": "markdown",
      "metadata": {
        "id": "t8bHvsWaRGVP"
      },
      "source": [
        "# Models"
      ]
    },
    {
      "cell_type": "code",
      "metadata": {
        "id": "ljv7JatiiWIE"
      },
      "source": [
        "class CNN(nn.Module):\n",
        "    def __init__(self):\n",
        "        super().__init__()\n",
        "\n",
        "        self.conv1 = nn.Conv1d(1, 2, 9, 1)  \n",
        "        self.conv2 = nn.Conv1d(2, 2, 7, 1)  \n",
        "        self.conv3 = nn.Conv1d(2, 4, 7, 1)  \n",
        "        self.conv4 = nn.Conv1d(4, 8, 5, 1)\n",
        "        self.conv5 = nn.Conv1d(8, 12, 3, 1)\n",
        "\n",
        "        self.bn1 = nn.BatchNorm1d(2)\n",
        "        self.bn2 = nn.BatchNorm1d(2)\n",
        "        self.bn3 = nn.BatchNorm1d(4)\n",
        "        self.bn4 = nn.BatchNorm1d(8)\n",
        "        self.bn5 = nn.BatchNorm1d(12)\n",
        "\n",
        "        self.fc1 = nn.Linear(12 * 19, 128)\n",
        "        self.fc2 = nn.Linear(128, classes_count)   \n",
        "        self.pool = nn.AvgPool1d(2)\n",
        "\n",
        "        self.softmax = nn.Softmax(dim=1)\n",
        "    \n",
        "    def forward(self, x):\n",
        "        x = self.pool(self.bn1(F.relu(self.conv1(x))))\n",
        "        x = self.pool(self.bn2(F.relu(self.conv2(x))))\n",
        "        x = self.pool(self.bn3(F.relu(self.conv3(x))))\n",
        "        x = self.pool(self.bn4(F.relu(self.conv4(x))))\n",
        "        x = self.pool(self.bn5(F.relu(self.conv5(x))))\n",
        "        \n",
        "        x = x.view(-1, 12 * 19)      \n",
        "        x = F.relu(self.fc1(x))\n",
        "        x = F.relu(self.fc2(x))\n",
        "        x = self.softmax(x)  \n",
        "        \n",
        "        return x\n",
        "\n",
        "    def embed(self, x):\n",
        "        x = self.pool(self.bn1(F.relu(self.conv1(x))))\n",
        "        x = self.pool(self.bn2(F.relu(self.conv2(x))))\n",
        "        x = self.pool(self.bn3(F.relu(self.conv3(x))))\n",
        "        x = self.pool(self.bn4(F.relu(self.conv4(x))))\n",
        "        x = self.pool(self.bn5(F.relu(self.conv5(x))))\n",
        "        x = x.view(-1, 12 * 22)\n",
        "        x = F.relu(self.fc1(x))\n",
        "        \n",
        "        return x"
      ],
      "execution_count": null,
      "outputs": []
    },
    {
      "cell_type": "code",
      "metadata": {
        "id": "v08Mv_qbpcg6"
      },
      "source": [
        "class FullCNN(nn.Module):\n",
        "    def __init__(self):\n",
        "        super().__init__()\n",
        "\n",
        "        self.conv1 = nn.Conv1d(1, 2, 9, 1)  \n",
        "        self.conv2 = nn.Conv1d(2, 2, 7, 1)  \n",
        "        self.conv3 = nn.Conv1d(2, 4, 7, 1)  \n",
        "        self.conv4 = nn.Conv1d(4, 8, 5, 1)\n",
        "        self.conv5 = nn.Conv1d(8, 12, 3, 1)\n",
        "\n",
        "        self.conv6 = nn.Conv1d(12, classes_count, 1, 1)\n",
        "        self.gap = nn.AvgPool2d((1, 19))\n",
        "\n",
        "        self.bn1 = nn.BatchNorm1d(2)\n",
        "        self.bn2 = nn.BatchNorm1d(2)\n",
        "        self.bn3 = nn.BatchNorm1d(4)\n",
        "        self.bn4 = nn.BatchNorm1d(8)\n",
        "        self.bn5 = nn.BatchNorm1d(12)\n",
        "        self.bn6 = nn.BatchNorm1d(classes_count)\n",
        "\n",
        "        self.fc1 = nn.Linear(12 * 19, classes_count)           \n",
        "        self.pool = nn.AvgPool1d(2)\n",
        "        self.softmax = nn.Softmax(dim=1)\n",
        "    \n",
        "    def forward(self, x):\n",
        "        \n",
        "        x = self.pool(self.bn1(F.relu(self.conv1(x))))\n",
        "        x = self.pool(self.bn2(F.relu(self.conv2(x))))\n",
        "        x = self.pool(self.bn3(F.relu(self.conv3(x))))\n",
        "        x = self.pool(self.bn4(F.relu(self.conv4(x))))\n",
        "        x = self.pool(self.bn5(F.relu(self.conv5(x))))\n",
        "        x = self.bn6(F.relu(self.conv6(x)))\n",
        "        x = self.gap(x)        \n",
        "        x = x.view(-1, classes_count)\n",
        "        x = self.softmax(x)  \n",
        "        \n",
        "        return x"
      ],
      "execution_count": null,
      "outputs": []
    },
    {
      "cell_type": "code",
      "metadata": {
        "id": "wVS6Eb6pitoW"
      },
      "source": [
        "class MultiHead(nn.Module):\n",
        "    \n",
        "    def __init__(self):\n",
        "        super().__init__()\n",
        "\n",
        "        self.conv1a = nn.Conv1d(1, 8, 3, 1)  \n",
        "        self.conv2a = nn.Conv1d(1, 8, 5, 1)  \n",
        "        self.conv3a = nn.Conv1d(1, 8, 7, 1)\n",
        "\n",
        "        self.conv1b = nn.Conv1d(8, 4, 3, 1)  \n",
        "        self.conv2b = nn.Conv1d(8, 4, 5, 1)  \n",
        "        self.conv3b = nn.Conv1d(8, 4, 7, 1)\n",
        "\n",
        "        self.drop = nn.Dropout(0.001)\n",
        "        self.pool = nn.MaxPool1d(2)\n",
        "        self.fc1 = nn.Linear(2144, classes_count)\n",
        "        self.softmax = nn.Softmax(dim=1)\n",
        "\n",
        "    def forward(self, x):\n",
        "\n",
        "        x1 = self.pool(self.drop(F.relu(self.conv1a(x))))\n",
        "        x2 = self.pool(self.drop(F.relu(self.conv2a(x))))\n",
        "        x3 = self.pool(self.drop(F.relu(self.conv3a(x))))\n",
        "        x1 = self.pool(self.drop(F.relu(self.conv1b(x1))))\n",
        "        x2 = self.pool(self.drop(F.relu(self.conv2b(x2))))\n",
        "        x3 = self.pool(self.drop(F.relu(self.conv3b(x3))))\n",
        "        x1 = x1.view(-1, 4 * 180)\n",
        "        x2 = x2.view(-1, 4 * 179)\n",
        "        x3 = x3.view(-1, 4 * 177)\n",
        "    \n",
        "        x = torch.cat((x1, x2, x3), dim=1)\n",
        "\n",
        "        x = F.relu(self.fc1(x))\n",
        "        \n",
        "        x = self.softmax(x.view(-1, classes_count))\n",
        "\n",
        "        return x"
      ],
      "execution_count": null,
      "outputs": []
    },
    {
      "cell_type": "code",
      "metadata": {
        "id": "QPNwFa_IZ9so"
      },
      "source": [
        "class Dense(nn.Module):\n",
        "    def __init__(self):\n",
        "        super().__init__()\n",
        "        \n",
        "        self.fc1 = nn.Linear(728, 1024)\n",
        "        self.fc2 = nn.Linear(1024, 512)\n",
        "        self.fc3 = nn.Linear(512, 256)\n",
        "        self.fc4 = nn.Linear(256, 128)\n",
        "        self.fc5 = nn.Linear(128, 64)\n",
        "        self.fc6 = nn.Linear(64, 16)\n",
        "        self.fc7 = nn.Linear(16, classes_count)\n",
        "\n",
        "        self.softmax = nn.Softmax(dim=1)\n",
        "\n",
        "    def forward(self, x):\n",
        "        \n",
        "        x = F.relu(self.fc1(x))\n",
        "        x = F.relu(self.fc2(x))\n",
        "        x = F.relu(self.fc3(x))\n",
        "        x = F.relu(self.fc4(x))\n",
        "        x = F.relu(self.fc5(x))\n",
        "        x = F.relu(self.fc6(x))\n",
        "        x = F.relu(self.fc7(x))\n",
        "        x = self.softmax(x.view(-1, classes_count))\n",
        "\n",
        "        return x"
      ],
      "execution_count": null,
      "outputs": []
    },
    {
      "cell_type": "markdown",
      "metadata": {
        "id": "4xQ8NOxETR8E"
      },
      "source": [
        "# Training and Evaluation Loops"
      ]
    },
    {
      "cell_type": "code",
      "metadata": {
        "id": "am55e78i5tXo"
      },
      "source": [
        "def train(net, dataloader, criterion, optimizer):\n",
        "    net = net.train()   \n",
        "    loss_tr, correct_count, n_samples = 0.0, 0.0, 0.0\n",
        "    for i, data in enumerate(dataloader):\n",
        "        inputs, labels = data\n",
        "        inputs, labels = inputs.float().to(device), labels.to(device)\n",
        "\n",
        "        # zero the parameter gradients\n",
        "        optimizer.zero_grad()\n",
        "        # forward + backward + optimize\n",
        "        outputs = net(inputs)\n",
        "        loss = criterion(outputs, labels)\n",
        "        loss.backward()\n",
        "        optimizer.step()\n",
        "        # calculate performance metrics\n",
        "        loss_tr += loss.item()\n",
        "        _, preds = torch.max(outputs.data, 1)\n",
        "        correct_count += (preds == labels).sum().item()\n",
        "        n_samples += labels.size(0)\n",
        "\n",
        "    acc = 100 * correct_count / n_samples\n",
        "    loss = loss_tr / n_samples\n",
        "\n",
        "    return acc, loss"
      ],
      "execution_count": null,
      "outputs": []
    },
    {
      "cell_type": "code",
      "metadata": {
        "id": "_7ifc8tfXV8U"
      },
      "source": [
        "def evaluate(net, dataloader, criterion):\n",
        "    with torch.no_grad():  # remove gradient calculation, by default, in evaluation mode, torch will still calculate gradient. \n",
        "        net = net.eval()\n",
        "        loss_tr, correct_count, n_samples, preds = 0.0, 0.0, 0.0, []\n",
        "        for data in dataloader:\n",
        "            inputs, labels = data\n",
        "            inputs, labels = inputs.float().to(device), labels.to(device)\n",
        "\n",
        "            outputs = net(inputs)\n",
        "            loss = criterion(outputs, labels)\n",
        "            # calculate performance metrics\n",
        "            loss_tr += loss.item()\n",
        "            _, pred = torch.max(outputs.data, 1)\n",
        "            preds.extend([p.item() for p in pred])\n",
        "            correct_count += (pred == labels).sum().item()\n",
        "            n_samples += labels.size(0)\n",
        "\n",
        "        acc = 100 * correct_count / n_samples\n",
        "        loss = loss_tr / n_samples\n",
        "\n",
        "    return acc, loss, preds"
      ],
      "execution_count": null,
      "outputs": []
    },
    {
      "cell_type": "code",
      "metadata": {
        "id": "W7BfYBCI8V0Q"
      },
      "source": [
        "def get_all_acc(net, dataloader, criterion):\n",
        "\n",
        "    confusion_matrix = torch.zeros(classes_count, classes_count)\n",
        "    with torch.no_grad():\n",
        "        for i, (inputs, classes) in enumerate(dataloader):\n",
        "            inputs = inputs.float().to(device)\n",
        "            classes = classes.to(device)           \n",
        "            outputs = net(inputs)           \n",
        "            _, preds = torch.max(outputs.data, 1)\n",
        "            for t, p in zip(classes.view(-1), preds.view(-1)):\n",
        "                    confusion_matrix[t.long(), p.long()] += 1\n",
        "\n",
        "    per_class_acc = confusion_matrix.diag()/confusion_matrix.sum(1)\n",
        "    aggregate_acc = confusion_matrix.diag().sum() / confusion_matrix.sum()\n",
        "\n",
        "    return [num.item() for num in (aggregate_acc, *per_class_acc)]"
      ],
      "execution_count": null,
      "outputs": []
    },
    {
      "cell_type": "code",
      "metadata": {
        "id": "NINys1uHoDrD"
      },
      "source": [
        "def count_parameters(model):\n",
        "    return sum(p.numel() for p in model.parameters() if p.requires_grad)"
      ],
      "execution_count": null,
      "outputs": []
    },
    {
      "cell_type": "code",
      "metadata": {
        "id": "fN8yVfMLcl3E"
      },
      "source": [
        "device = torch.device(\"cuda:0\" if torch.cuda.is_available() else \"cpu\")\n",
        "criterion = nn.CrossEntropyLoss()\n",
        "\n",
        "def run(model):\n",
        "    # Setup \n",
        "    \n",
        "    model = model.float().to(device)\n",
        "    optimizer = torch.optim.Adam(model.parameters(), lr=hps['lr'])\n",
        "    best_accuracy = 0\n",
        "    for epoch in range(hps['epochs']):\n",
        "        # pass through train and val dataloaders\n",
        "        acc_tr, loss_tr = train(model, trainloader, criterion, optimizer)\n",
        "        acc_v, loss_v, preds = evaluate(model, valloader, criterion)\n",
        "        \n",
        "        if acc_v > best_accuracy:\n",
        "            best_accuracy = acc_v\n",
        "            torch.save(model.state_dict(), \"best_params\")\n",
        "        if best_accuracy == 100:\n",
        "            break\n",
        "\n",
        "    model.load_state_dict(torch.load(\"best_params\"))\n",
        "    \n",
        "    return model\n"
      ],
      "execution_count": null,
      "outputs": []
    },
    {
      "cell_type": "markdown",
      "metadata": {
        "id": "gUrNJbnFgmhY"
      },
      "source": [
        "# CNN"
      ]
    },
    {
      "cell_type": "code",
      "metadata": {
        "id": "PrGHCOmwgzKY"
      },
      "source": [
        "# Hyperparameters\n",
        "hps = {\n",
        "    'bs': 64,\n",
        "    'epochs': 100,\n",
        "    'lr': 0.001,\n",
        "    'augment': False,\n",
        "}"
      ],
      "execution_count": null,
      "outputs": []
    },
    {
      "cell_type": "code",
      "metadata": {
        "id": "Xqfxk_lp9_NH",
        "colab": {
          "base_uri": "https://localhost:8080/"
        },
        "outputId": "15399f0e-4ec2-48dc-a0ab-06db3c242e7e"
      },
      "source": [
        "# Build pytorch Datasets and Dataloaders\n",
        "data_train = CustomDataset(xtrain, ytrain, augmentation=hps['augment'])\n",
        "data_val = CustomDataset(xval, yval)\n",
        "\n",
        "trainloader = DataLoader(data_train, batch_size=hps['bs'], shuffle=True, num_workers=2)\n",
        "valloader = DataLoader(data_val, batch_size=hps['bs'], shuffle=False, num_workers=2)\n",
        "\n",
        "accs = []\n",
        "\n",
        "# setup progress bar\n",
        "pbar = tqdm(range(50))\n",
        "\n",
        "for i in pbar:\n",
        "    model = run(CNN())\n",
        "    all_acc = get_all_acc(model, valloader, criterion)\n",
        "    accs.append(all_acc)\n",
        "\n",
        "accs = np.array(accs)"
      ],
      "execution_count": null,
      "outputs": [
        {
          "output_type": "stream",
          "text": [
            "100%|██████████| 50/50 [1:01:30<00:00, 73.82s/it]\n"
          ],
          "name": "stderr"
        }
      ]
    },
    {
      "cell_type": "code",
      "metadata": {
        "id": "iiofRXlAJH0z",
        "colab": {
          "base_uri": "https://localhost:8080/",
          "height": 1000
        },
        "outputId": "b6308948-60a8-4698-9031-591153df3fdd"
      },
      "source": [
        "plt.figure()\n",
        "plt.hist(accs[:, 0])\n",
        "plt.title(\"Aggregate Accuracy\")\n",
        "plt.show()\n",
        "\n",
        "plt.figure()\n",
        "plt.hist(accs[:, 1])\n",
        "plt.title(\"Class 0 Accuracy\")\n",
        "plt.show()\n",
        "\n",
        "plt.figure()\n",
        "plt.hist(accs[:, 2])\n",
        "plt.title(\"Class 1 Accuracy\")\n",
        "plt.show()\n",
        "\n",
        "plt.figure()\n",
        "plt.hist(accs[:, 3])\n",
        "plt.title(\"Class 2 Accuracy\")\n",
        "plt.show()\n",
        "\n",
        "plt.figure()\n",
        "plt.hist(accs[:, 4])\n",
        "plt.title(\"Class 3 Accuracy\")\n",
        "plt.show()"
      ],
      "execution_count": null,
      "outputs": [
        {
          "output_type": "display_data",
          "data": {
            "image/png": "[encoded data removed]",
            "text/plain": [
              "<Figure size 432x288 with 1 Axes>"
            ]
          },
          "metadata": {
            "tags": [],
            "needs_background": "light"
          }
        },
        {
          "output_type": "display_data",
          "data": {
            "image/png": "[encoded data removed]",
            "text/plain": [
              "<Figure size 432x288 with 1 Axes>"
            ]
          },
          "metadata": {
            "tags": [],
            "needs_background": "light"
          }
        },
        {
          "output_type": "display_data",
          "data": {
            "image/png": "[encoded data removed]",
            "text/plain": [
              "<Figure size 432x288 with 1 Axes>"
            ]
          },
          "metadata": {
            "tags": [],
            "needs_background": "light"
          }
        },
        {
          "output_type": "display_data",
          "data": {
            "image/png": "[encoded data removed]",
            "text/plain": [
              "<Figure size 432x288 with 1 Axes>"
            ]
          },
          "metadata": {
            "tags": [],
            "needs_background": "light"
          }
        },
        {
          "output_type": "display_data",
          "data": {
            "image/png": "[encoded data removed]",
            "text/plain": [
              "<Figure size 432x288 with 1 Axes>"
            ]
          },
          "metadata": {
            "tags": [],
            "needs_background": "light"
          }
        }
      ]
    },
    {
      "cell_type": "markdown",
      "metadata": {
        "id": "NHqCVrVbhSjN"
      },
      "source": [
        "# Full CNN"
      ]
    },
    {
      "cell_type": "code",
      "metadata": {
        "id": "LGVkZSwmdbrU"
      },
      "source": [
        "# Hyperparameters\n",
        "hps = {\n",
        "    'bs': 16,\n",
        "    'epochs': 100,\n",
        "    'lr': 0.001,\n",
        "    'augment': False,\n",
        "}"
      ],
      "execution_count": null,
      "outputs": []
    },
    {
      "cell_type": "code",
      "metadata": {
        "colab": {
          "base_uri": "https://localhost:8080/"
        },
        "id": "-GO95SZUhXYr",
        "outputId": "5207ce78-2f44-43ef-9dde-5067e5ba15f6"
      },
      "source": [
        "# Build pytorch Datasets and Dataloaders\n",
        "data_train = CustomDataset(xtrain, ytrain, augmentation=hps['augment'])\n",
        "data_val = CustomDataset(xval, yval)\n",
        "\n",
        "trainloader = DataLoader(data_train, batch_size=hps['bs'], shuffle=True, num_workers=2)\n",
        "valloader = DataLoader(data_val, batch_size=hps['bs'], shuffle=False, num_workers=2)\n",
        "accs = []\n",
        "# setup progress bar\n",
        "pbar = tqdm(range(50))\n",
        "\n",
        "for i in pbar:\n",
        "    model = run(FullCNN())\n",
        "    all_acc = get_all_acc(model, valloader, criterion)\n",
        "    accs.append(all_acc)\n",
        "\n",
        "accs = np.array(accs)"
      ],
      "execution_count": null,
      "outputs": [
        {
          "output_type": "stream",
          "text": [
            "100%|██████████| 50/50 [3:17:59<00:00, 237.59s/it]\n"
          ],
          "name": "stderr"
        }
      ]
    },
    {
      "cell_type": "code",
      "metadata": {
        "id": "c7Ok8-uHA3VV",
        "colab": {
          "base_uri": "https://localhost:8080/",
          "height": 1000
        },
        "outputId": "b9c5f45c-2ab9-491a-8a1f-1d0c272b9399"
      },
      "source": [
        "plt.figure()\n",
        "plt.hist(accs[:, 0])\n",
        "plt.title(\"Aggregate Accuracy\")\n",
        "plt.show()\n",
        "\n",
        "plt.figure()\n",
        "plt.hist(accs[:, 1])\n",
        "plt.title(\"Class 0 Accuracy\")\n",
        "plt.show()\n",
        "\n",
        "plt.figure()\n",
        "plt.hist(accs[:, 2])\n",
        "plt.title(\"Class 1 Accuracy\")\n",
        "plt.show()\n",
        "\n",
        "plt.figure()\n",
        "plt.hist(accs[:, 3])\n",
        "plt.title(\"Class 2 Accuracy\")\n",
        "plt.show()\n",
        "\n",
        "plt.figure()\n",
        "plt.hist(accs[:, 4])\n",
        "plt.title(\"Class 3 Accuracy\")\n",
        "plt.show()"
      ],
      "execution_count": null,
      "outputs": [
        {
          "output_type": "display_data",
          "data": {
            "image/png": "[encoded data removed]",
            "text/plain": [
              "<Figure size 432x288 with 1 Axes>"
            ]
          },
          "metadata": {
            "tags": [],
            "needs_background": "light"
          }
        },
        {
          "output_type": "display_data",
          "data": {
            "image/png": "[encoded data removed]",
            "text/plain": [
              "<Figure size 432x288 with 1 Axes>"
            ]
          },
          "metadata": {
            "tags": [],
            "needs_background": "light"
          }
        },
        {
          "output_type": "display_data",
          "data": {
            "image/png": "[encoded data removed]",
            "text/plain": [
              "<Figure size 432x288 with 1 Axes>"
            ]
          },
          "metadata": {
            "tags": [],
            "needs_background": "light"
          }
        },
        {
          "output_type": "display_data",
          "data": {
            "image/png": "[encoded data removed]",
            "text/plain": [
              "<Figure size 432x288 with 1 Axes>"
            ]
          },
          "metadata": {
            "tags": [],
            "needs_background": "light"
          }
        },
        {
          "output_type": "display_data",
          "data": {
            "image/png": "[encoded data removed]",
            "text/plain": [
              "<Figure size 432x288 with 1 Axes>"
            ]
          },
          "metadata": {
            "tags": [],
            "needs_background": "light"
          }
        }
      ]
    },
    {
      "cell_type": "markdown",
      "metadata": {
        "id": "_fk-Dt3ChvmT"
      },
      "source": [
        "# MultiHead CNN"
      ]
    },
    {
      "cell_type": "code",
      "metadata": {
        "id": "ypo3_Ve4hui1"
      },
      "source": [
        "# Hyperparameters\n",
        "hps = {\n",
        "    'bs': 128,\n",
        "    'epochs': 100,\n",
        "    'lr': 0.001,\n",
        "    'augment': False,\n",
        "}"
      ],
      "execution_count": null,
      "outputs": []
    },
    {
      "cell_type": "code",
      "metadata": {
        "id": "mGuy52OIBGb2",
        "colab": {
          "base_uri": "https://localhost:8080/"
        },
        "outputId": "2a19f2c2-adeb-486d-9409-e3248bc364a5"
      },
      "source": [
        "# Build pytorch Datasets and Dataloaders\n",
        "data_train = CustomDataset(xtrain, ytrain, augmentation=hps['augment'])\n",
        "data_val = CustomDataset(xval, yval)\n",
        "trainloader = DataLoader(data_train, batch_size=hps['bs'], shuffle=True, num_workers=2)\n",
        "valloader = DataLoader(data_val, batch_size=hps['bs'], shuffle=False, num_workers=2)\n",
        "accs = []\n",
        "# setup progress bar\n",
        "pbar = tqdm(range(50))\n",
        "\n",
        "for i in pbar:\n",
        "    model = run(MultiHead())\n",
        "    all_acc = get_all_acc(model, valloader, criterion)\n",
        "    accs.append(all_acc)\n",
        "\n",
        "accs = np.array(accs)"
      ],
      "execution_count": null,
      "outputs": [
        {
          "output_type": "stream",
          "text": [
            "100%|██████████| 50/50 [47:23<00:00, 56.87s/it]\n"
          ],
          "name": "stderr"
        }
      ]
    },
    {
      "cell_type": "code",
      "metadata": {
        "colab": {
          "base_uri": "https://localhost:8080/",
          "height": 1000
        },
        "id": "sKeI6cV9h0FV",
        "outputId": "53a55b91-3c1b-4d7c-aa22-814aa7557b31"
      },
      "source": [
        "plt.figure()\n",
        "plt.hist(accs[:, 0])\n",
        "plt.title(\"Aggregate Accuracy\")\n",
        "plt.show()\n",
        "\n",
        "plt.figure()\n",
        "plt.hist(accs[:, 1])\n",
        "plt.title(\"Class 0 Accuracy\")\n",
        "plt.show()\n",
        "\n",
        "plt.figure()\n",
        "plt.hist(accs[:, 2])\n",
        "plt.title(\"Class 1 Accuracy\")\n",
        "plt.show()\n",
        "\n",
        "plt.figure()\n",
        "plt.hist(accs[:, 3])\n",
        "plt.title(\"Class 2 Accuracy\")\n",
        "plt.show()\n",
        "\n",
        "plt.figure()\n",
        "plt.hist(accs[:, 4])\n",
        "plt.title(\"Class 3 Accuracy\")\n",
        "plt.show()"
      ],
      "execution_count": null,
      "outputs": [
        {
          "output_type": "display_data",
          "data": {
            "image/png": "[encoded data removed]",
            "text/plain": [
              "<Figure size 432x288 with 1 Axes>"
            ]
          },
          "metadata": {
            "tags": [],
            "needs_background": "light"
          }
        },
        {
          "output_type": "display_data",
          "data": {
            "image/png": "[encoded data removed]",
            "text/plain": [
              "<Figure size 432x288 with 1 Axes>"
            ]
          },
          "metadata": {
            "tags": [],
            "needs_background": "light"
          }
        },
        {
          "output_type": "display_data",
          "data": {
            "image/png": "[encoded data removed]",
            "text/plain": [
              "<Figure size 432x288 with 1 Axes>"
            ]
          },
          "metadata": {
            "tags": [],
            "needs_background": "light"
          }
        },
        {
          "output_type": "display_data",
          "data": {
            "image/png": "[encoded data removed]",
            "text/plain": [
              "<Figure size 432x288 with 1 Axes>"
            ]
          },
          "metadata": {
            "tags": [],
            "needs_background": "light"
          }
        },
        {
          "output_type": "display_data",
          "data": {
            "image/png": "[encoded data removed]",
            "text/plain": [
              "<Figure size 432x288 with 1 Axes>"
            ]
          },
          "metadata": {
            "tags": [],
            "needs_background": "light"
          }
        }
      ]
    },
    {
      "cell_type": "markdown",
      "metadata": {
        "id": "XaXXNFyCiRDC"
      },
      "source": [
        "# Dense "
      ]
    },
    {
      "cell_type": "code",
      "metadata": {
        "id": "KOHPq-Apia8Q"
      },
      "source": [
        "# Hyperparameters\n",
        "hps = {\n",
        "    'bs': 64,\n",
        "    'epochs': 100,\n",
        "    'lr': 0.001,\n",
        "    'augment': False,\n",
        "}"
      ],
      "execution_count": null,
      "outputs": []
    },
    {
      "cell_type": "code",
      "metadata": {
        "colab": {
          "base_uri": "https://localhost:8080/"
        },
        "id": "MCK2CNEOifgn",
        "outputId": "c5f8168a-6881-45a9-b76a-9a1051900bbe"
      },
      "source": [
        "# Build pytorch Datasets and Dataloaders\n",
        "data_train = CustomDataset(xtrain, ytrain, augmentation=hps['augment'])\n",
        "data_val = CustomDataset(xval, yval)\n",
        "\n",
        "trainloader = DataLoader(data_train, batch_size=hps['bs'], shuffle=True, num_workers=2)\n",
        "valloader = DataLoader(data_val, batch_size=hps['bs'], shuffle=False, num_workers=2)\n",
        "\n",
        "accs = []\n",
        "\n",
        "# setup progress bar\n",
        "pbar = tqdm(range(50))\n",
        "\n",
        "for i in pbar:\n",
        "    model = run(Dense())\n",
        "    all_acc = get_all_acc(model, valloader, criterion)\n",
        "    accs.append(all_acc)\n",
        "\n",
        "accs = np.array(accs)"
      ],
      "execution_count": null,
      "outputs": [
        {
          "output_type": "stream",
          "text": [
            "100%|██████████| 50/50 [58:09<00:00, 69.79s/it]\n"
          ],
          "name": "stderr"
        }
      ]
    },
    {
      "cell_type": "code",
      "metadata": {
        "id": "kdSaqkgYiggD",
        "colab": {
          "base_uri": "https://localhost:8080/",
          "height": 1000
        },
        "outputId": "240c0574-f13c-4558-bd82-21ea3ba81d5e"
      },
      "source": [
        "plt.figure()\n",
        "plt.hist(accs[:, 0])\n",
        "plt.title(\"Aggregate Accuracy\")\n",
        "plt.show()\n",
        "\n",
        "plt.figure()\n",
        "plt.hist(accs[:, 1])\n",
        "plt.title(\"Class 0 Accuracy\")\n",
        "plt.show()\n",
        "\n",
        "plt.figure()\n",
        "plt.hist(accs[:, 2])\n",
        "plt.title(\"Class 1 Accuracy\")\n",
        "plt.show()\n",
        "\n",
        "plt.figure()\n",
        "plt.hist(accs[:, 3])\n",
        "plt.title(\"Class 2 Accuracy\")\n",
        "plt.show()\n",
        "\n",
        "plt.figure()\n",
        "plt.hist(accs[:, 4])\n",
        "plt.title(\"Class 3 Accuracy\")\n",
        "plt.show()"
      ],
      "execution_count": null,
      "outputs": [
        {
          "output_type": "display_data",
          "data": {
            "image/png": "[encoded data removed]",
            "text/plain": [
              "<Figure size 432x288 with 1 Axes>"
            ]
          },
          "metadata": {
            "tags": [],
            "needs_background": "light"
          }
        },
        {
          "output_type": "display_data",
          "data": {
            "image/png": "[encoded data removed]",
            "text/plain": [
              "<Figure size 432x288 with 1 Axes>"
            ]
          },
          "metadata": {
            "tags": [],
            "needs_background": "light"
          }
        },
        {
          "output_type": "display_data",
          "data": {
            "image/png": "[encoded data removed]",
            "text/plain": [
              "<Figure size 432x288 with 1 Axes>"
            ]
          },
          "metadata": {
            "tags": [],
            "needs_background": "light"
          }
        },
        {
          "output_type": "display_data",
          "data": {
            "image/png": "[encoded data removed]",
            "text/plain": [
              "<Figure size 432x288 with 1 Axes>"
            ]
          },
          "metadata": {
            "tags": [],
            "needs_background": "light"
          }
        },
        {
          "output_type": "display_data",
          "data": {
            "image/png": "[encoded data removed]",
            "text/plain": [
              "<Figure size 432x288 with 1 Axes>"
            ]
          },
          "metadata": {
            "tags": [],
            "needs_background": "light"
          }
        }
      ]
    }
  ]
}