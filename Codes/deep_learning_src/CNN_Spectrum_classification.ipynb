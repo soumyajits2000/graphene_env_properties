{
  "nbformat": 4,
  "nbformat_minor": 0,
  "metadata": {
    "colab": {
      "name": "CNN_Spectrum_classification.ipynb",
      "provenance": [],
      "collapsed_sections": [],
      "include_colab_link": true
    },
    "kernelspec": {
      "name": "python3",
      "display_name": "Python 3"
    },
    "accelerator": "GPU"
  },
  "cells": [
    {
      "cell_type": "markdown",
      "metadata": {
        "id": "view-in-github",
        "colab_type": "text"
      },
      "source": [
        "<a href=\"https://colab.research.google.com/github/zhuofachen/Raman_deep_learning/blob/main/CNN_Spectrum_classification.ipynb\" target=\"_parent\"><img src=\"https://colab.research.google.com/assets/colab-badge.svg\" alt=\"Open In Colab\"/></a>"
      ]
    },
    {
      "cell_type": "markdown",
      "metadata": {
        "id": "CH85VO8MYwfH"
      },
      "source": [
        "# Setup"
      ]
    },
    {
      "cell_type": "code",
      "metadata": {
        "id": "dMz801qMPXfG"
      },
      "source": [
        "import random\n",
        "import collections\n",
        "from copy import deepcopy\n",
        "import numpy as np\n",
        "\n",
        "from sklearn.model_selection import train_test_split\n",
        "from sklearn.metrics import confusion_matrix\n",
        "\n",
        "import torch\n",
        "import torch.nn as nn\n",
        "import torch.nn.functional as F\n",
        "from torch.utils.data import Dataset, DataLoader\n",
        "import torchvision.transforms as transforms\n",
        "\n",
        "from PIL import Image\n",
        "import matplotlib.pyplot as plt"
      ],
      "execution_count": null,
      "outputs": []
    },
    {
      "cell_type": "code",
      "metadata": {
        "id": "cFfBchIgtrbP"
      },
      "source": [
        "hps = {\n",
        "    'bs': 16,\n",
        "    'epochs': 200,\n",
        "    'lr': 0.005,\n",
        "    'seed': 42,\n",
        "    'augment': True\n",
        "}\n",
        "# np.random.seed(hps['seed'])\n",
        "# random.seed(hps['seed'])\n",
        "# os.environ['PYTHONHASHSEED'] = str(hps['seed'])\n",
        "# torch.backends.cudnn.benchmark = False\n",
        "# torch.backends.cudnn.deterministic = True\n",
        "# torch.manual_seed(hps['seed'])\n",
        "# torch.cuda.manual_seed(hps['seed'])\n",
        "# torch.cuda.manual_seed_all(hps['seed'])"
      ],
      "execution_count": null,
      "outputs": []
    },
    {
      "cell_type": "markdown",
      "metadata": {
        "id": "mimggoykPQQ_"
      },
      "source": [
        "# Dataset"
      ]
    },
    {
      "cell_type": "code",
      "metadata": {
        "id": "V8Yvp7_9kqnT"
      },
      "source": [
        "def load_file(filename):\n",
        "    file = open(filename) \n",
        "\n",
        "    lines = file.readlines()\n",
        "        \n",
        "    data = []\n",
        "    for line in lines:\n",
        "        arr = []\n",
        "        for num in line.split(\",\"):\n",
        "            arr.append(float(num))\n",
        "        data.append(arr)\n",
        "\n",
        "    return np.array(data)"
      ],
      "execution_count": null,
      "outputs": []
    },
    {
      "cell_type": "code",
      "metadata": {
        "id": "bPa1YJPmQDMO"
      },
      "source": [
        "class CustomDataset(Dataset):\n",
        "    def __init__(self, spectra, labels, augmentation=None):\n",
        "        self.spectra = spectra\n",
        "        self.labels = labels\n",
        "        self.augmentation = augmentation\n",
        "\n",
        "    def __len__(self):\n",
        "        return len(self.spectra)\n",
        "\n",
        "    def __getitem__(self, idx):\n",
        "        if torch.is_tensor(idx):\n",
        "            idx = idx.tolist()\n",
        "\n",
        "        spec = self.spectra[idx].reshape(1, -1)\n",
        "        max_Intensity = np.max(spec, axis = 1)\n",
        "        if self.augmentation:\n",
        "            if random.uniform(0, 1) > 0.5: # noise\n",
        "                noise = np.random.normal(0, max_Intensity/60, spec.shape[1]).astype(np.float32)\n",
        "                spec = spec + noise\n",
        "            \n",
        "            if random.uniform(0, 1) > 0.5: # dropout\n",
        "                indices = np.random.choice(np.arange(spec.size), replace=False, size=int(spec.size * 0.2))\n",
        "                spec[:, indices] = 0\n",
        "            \n",
        "            if random.uniform(0, 1) > 0.5:   # Shift\n",
        "                temp = np.zeros(spec.shape).astype(np.float32)\n",
        "                shift_count = np.random.randint(1, 30)\n",
        "            \n",
        "                if random.uniform(0, 1) > 0.5:   # Shift right\n",
        "                    temp[:, shift_count:] = spec[:, :-shift_count]\n",
        "                else:\n",
        "                    temp[:, :-shift_count] = spec[:, shift_count:]\n",
        "                \n",
        "                spec = temp\n",
        "\n",
        "        label = torch.tensor(self.labels[idx]).type(torch.long)\n",
        "        spec = spec.astype(np.float32)\n",
        "        sample = (spec/max_Intensity, label)\n",
        "\n",
        "        return sample"
      ],
      "execution_count": null,
      "outputs": []
    },
    {
      "cell_type": "code",
      "metadata": {
        "id": "nnhaWqJ3kvBE",
        "colab": {
          "base_uri": "https://localhost:8080/"
        },
        "outputId": "71c8d83d-82d6-4842-fe2c-5d00fd1cfa54"
      },
      "source": [
        "# Load data\n",
        "Y = []\n",
        "data = []\n",
        "# path = 'datasets/dielectric_dataset/'\n",
        "# for i in range(4):\n",
        "#     curr_data = load_file(path + \"dielectric\" + str(i) + \".txt\")    \n",
        "#     data.append(curr_data)\n",
        "#     count = len(curr_data)\n",
        "#     Y.extend([i] * count)\n",
        "\n",
        "path = 'datasets/charge_dataset/'\n",
        "for i in range(4):\n",
        "    curr_data = load_file(path + \"c\" + str(i) + \".txt\")    \n",
        "    data.append(curr_data)\n",
        "    count = len(curr_data)\n",
        "    Y.extend([i] * count)\n",
        "\n",
        "X = np.vstack(data)\n",
        "Y = np.array(Y)\n",
        "\n",
        "print(len(data))\n",
        "print(len(X))\n",
        "count = collections.defaultdict(int)\n",
        "for num in Y:\n",
        "    count[num] += 1\n",
        "\n",
        "classes_count = len(count.keys())\n",
        "\n",
        "for i in sorted(count.keys()):\n",
        "    print(\"Class\", i, \"Count:\", count[i])"
      ],
      "execution_count": null,
      "outputs": [
        {
          "output_type": "stream",
          "name": "stdout",
          "text": [
            "4\n",
            "4419\n",
            "Class 0 Count: 1355\n",
            "Class 1 Count: 1386\n",
            "Class 2 Count: 727\n",
            "Class 3 Count: 951\n"
          ]
        }
      ]
    },
    {
      "cell_type": "code",
      "metadata": {
        "colab": {
          "base_uri": "https://localhost:8080/"
        },
        "id": "yCXt_xb4QNTo",
        "outputId": "07d80ad9-01fd-4334-9fbb-76818a6d5705"
      },
      "source": [
        "# Split data into train, val, & test sets\n",
        "xtrain, xtest, ytrain, ytest = train_test_split(X, Y, stratify=Y, train_size=0.8, random_state=hps['seed'], shuffle=True)\n",
        "xtrain, xval, ytrain, yval = train_test_split(xtrain, ytrain, stratify=ytrain, train_size=0.8, random_state=hps['seed'], shuffle=True)\n",
        "\n",
        "print(\"X shape:\\t\", X.shape)\n",
        "print(\"xtrain shape:\\t\", xtrain.shape)\n",
        "print(\"xval shape:\\t\", xval.shape)\n",
        "print(\"xtest shape:\\t\", xtest.shape, '\\n')\n",
        "\n",
        "print(\"Y shape:\\t\", Y.shape)\n",
        "print(\"ytrain shape:\\t\", ytrain.shape)\n",
        "print(\"yval shape:\\t\", yval.shape)\n",
        "print(\"ytest shape:\\t\", ytest.shape)"
      ],
      "execution_count": null,
      "outputs": [
        {
          "output_type": "stream",
          "name": "stdout",
          "text": [
            "X shape:\t (4419, 728)\n",
            "xtrain shape:\t (2828, 728)\n",
            "xval shape:\t (707, 728)\n",
            "xtest shape:\t (884, 728) \n",
            "\n",
            "Y shape:\t (4419,)\n",
            "ytrain shape:\t (2828,)\n",
            "yval shape:\t (707,)\n",
            "ytest shape:\t (884,)\n"
          ]
        }
      ]
    },
    {
      "cell_type": "markdown",
      "metadata": {
        "id": "t8bHvsWaRGVP"
      },
      "source": [
        "# Deep learning Models"
      ]
    },
    {
      "cell_type": "code",
      "metadata": {
        "id": "ljv7JatiiWIE"
      },
      "source": [
        "class CNN(nn.Module):\n",
        "    def __init__(self):\n",
        "        super().__init__()\n",
        "\n",
        "        self.conv1 = nn.Conv1d(1, 2, 9, 1)  \n",
        "        self.conv2 = nn.Conv1d(2, 2, 7, 1)  \n",
        "        self.conv3 = nn.Conv1d(2, 4, 7, 1)  \n",
        "        self.conv4 = nn.Conv1d(4, 8, 5, 1)\n",
        "        self.conv5 = nn.Conv1d(8, 12, 3, 1)\n",
        "\n",
        "        self.bn1 = nn.BatchNorm1d(2)\n",
        "        self.bn2 = nn.BatchNorm1d(2)\n",
        "        self.bn3 = nn.BatchNorm1d(4)\n",
        "        self.bn4 = nn.BatchNorm1d(8)\n",
        "        self.bn5 = nn.BatchNorm1d(12)\n",
        "\n",
        "        self.fc1 = nn.Linear(12 * 19, 128)\n",
        "        \n",
        "        self.fc2 = nn.Linear(128, classes_count)   \n",
        "        self.pool = nn.AvgPool1d(2)\n",
        "\n",
        "        self.bn6 = nn.BatchNorm1d(128)\n",
        "\n",
        "        self.softmax = nn.Softmax(dim=1)\n",
        "    \n",
        "    def forward(self, x):\n",
        "        x = self.pool(self.bn1(F.relu(self.conv1(x))))\n",
        "        x = self.pool(self.bn2(F.relu(self.conv2(x))))\n",
        "        x = self.pool(self.bn3(F.relu(self.conv3(x))))\n",
        "        x = self.pool(self.bn4(F.relu(self.conv4(x))))\n",
        "        x = self.pool(self.bn5(F.relu(self.conv5(x))))       \n",
        "        x = x.view(-1, 12 * 19)       \n",
        "        x = self.bn6(F.relu(self.fc1(x)))        \n",
        "        x = F.relu(self.fc2(x))\n",
        "        x = self.softmax(x)         \n",
        "        return x\n",
        "\n",
        "    def embed(self, x):\n",
        "        x = self.pool(self.bn1(F.relu(self.conv1(x))))\n",
        "        x = self.pool(self.bn2(F.relu(self.conv2(x))))\n",
        "        x = self.pool(self.bn3(F.relu(self.conv3(x))))\n",
        "        x = self.pool(self.bn4(F.relu(self.conv4(x))))\n",
        "        x = self.pool(self.bn5(F.relu(self.conv5(x))))\n",
        "        x = x.view(-1, 12 * 19)\n",
        "        x = F.relu(self.fc1(x))\n",
        "        return x\n",
        "\n",
        "class FullCNN(nn.Module):\n",
        "    def __init__(self):\n",
        "        super().__init__()\n",
        "\n",
        "        self.conv1 = nn.Conv1d(1, 2, 9, 1)  \n",
        "        self.conv2 = nn.Conv1d(2, 2, 7, 1)  \n",
        "        self.conv3 = nn.Conv1d(2, 4, 7, 1)  \n",
        "        self.conv4 = nn.Conv1d(4, 8, 5, 1)\n",
        "        self.conv5 = nn.Conv1d(8, 12, 3, 1)\n",
        "\n",
        "        self.conv6 = nn.Conv1d(12, classes_count, 1, 1)\n",
        "        self.gap = nn.AvgPool2d((1, 19))\n",
        "\n",
        "        self.bn1 = nn.BatchNorm1d(2)\n",
        "        self.bn2 = nn.BatchNorm1d(2)\n",
        "        self.bn3 = nn.BatchNorm1d(4)\n",
        "        self.bn4 = nn.BatchNorm1d(8)\n",
        "        self.bn5 = nn.BatchNorm1d(12)\n",
        "        self.bn6 = nn.BatchNorm1d(classes_count)\n",
        "\n",
        "        self.fc1 = nn.Linear(12 * 19, classes_count)           \n",
        "        self.pool = nn.AvgPool1d(2)\n",
        "        self.softmax = nn.Softmax(dim=1)\n",
        "    \n",
        "    def forward(self, x):\n",
        "        \n",
        "        x = self.pool(self.bn1(F.relu(self.conv1(x))))\n",
        "        x = self.pool(self.bn2(F.relu(self.conv2(x))))\n",
        "        x = self.pool(self.bn3(F.relu(self.conv3(x))))\n",
        "        x = self.pool(self.bn4(F.relu(self.conv4(x))))\n",
        "        x = self.pool(self.bn5(F.relu(self.conv5(x))))\n",
        "        x = self.bn6(F.relu(self.conv6(x)))\n",
        "\n",
        "        x = self.gap(x)        \n",
        "        x = x.view(-1, classes_count)\n",
        "        x = self.softmax(x)         \n",
        "        return x\n",
        "\n",
        "\n",
        "class MultiHead(nn.Module):\n",
        "    \n",
        "    def __init__(self):\n",
        "        super().__init__()\n",
        "\n",
        "        self.conv1a = nn.Conv1d(1, 16, 3, 1)  \n",
        "        self.conv2a = nn.Conv1d(1, 16, 5, 1)  \n",
        "        self.conv3a = nn.Conv1d(1, 16, 7, 1)\n",
        "\n",
        "        self.conv1b = nn.Conv1d(16, 4, 3, 1)  \n",
        "        self.conv2b = nn.Conv1d(16, 4, 5, 1)  \n",
        "        self.conv3b = nn.Conv1d(16, 4, 7, 1)\n",
        "\n",
        "        self.bn1a = nn.BatchNorm1d(16)\n",
        "        self.bn2a = nn.BatchNorm1d(16)\n",
        "        self.bn3a = nn.BatchNorm1d(16)\n",
        "\n",
        "        self.bn1b = nn.BatchNorm1d(4)\n",
        "        self.bn2b = nn.BatchNorm1d(4)\n",
        "        self.bn3b = nn.BatchNorm1d(4)\n",
        "\n",
        "        self.drop = nn.Dropout(0.01)\n",
        "        self.pool = nn.MaxPool1d(2)\n",
        "\n",
        "        self.fc1 = nn.Linear(2144, classes_count)\n",
        "\n",
        "        self.softmax = nn.Softmax(dim=1)\n",
        "\n",
        "    def forward(self, x):\n",
        "\n",
        "        x1 = self.pool(self.drop(self.bn1a(F.relu(self.conv1a(x)))))\n",
        "        x2 = self.pool(self.drop(self.bn2a(F.relu(self.conv2a(x)))))\n",
        "        x3 = self.pool(self.drop(self.bn3a(F.relu(self.conv3a(x)))))\n",
        "\n",
        "        x1 = self.pool(self.drop(self.bn1b(F.relu(self.conv1b(x1)))))\n",
        "        x2 = self.pool(self.drop(self.bn2b(F.relu(self.conv2b(x2)))))\n",
        "        x3 = self.pool(self.drop(self.bn3b(F.relu(self.conv3b(x3)))))\n",
        "\n",
        "        x1 = x1.view(-1, 4 * 180)\n",
        "        x2 = x2.view(-1, 4 * 179)\n",
        "        x3 = x3.view(-1, 4 * 177)\n",
        "    \n",
        "        x = torch.cat((x1, x2, x3), dim=1)\n",
        "        x = F.relu(self.fc1(x))       \n",
        "        x = self.softmax(x.view(-1, classes_count))\n",
        "\n",
        "        return x\n",
        "\n",
        "\n",
        "class Dense(nn.Module):\n",
        "    def __init__(self):\n",
        "        super().__init__()\n",
        "        \n",
        "        self.fc1 = nn.Linear(728, 1024)\n",
        "        self.fc2 = nn.Linear(1024, 512)\n",
        "        self.fc3 = nn.Linear(512, 256)\n",
        "        self.fc4 = nn.Linear(256, 128)\n",
        "        self.fc5 = nn.Linear(128, 64)\n",
        "        self.fc6 = nn.Linear(64, 16)\n",
        "        self.fc7 = nn.Linear(16, classes_count)\n",
        "\n",
        "        self.bn1 = nn.BatchNorm1d(num_features=1)\n",
        "        self.bn2 = nn.BatchNorm1d(num_features=1)\n",
        "        self.bn3 = nn.BatchNorm1d(num_features=1)\n",
        "        self.bn4 = nn.BatchNorm1d(num_features=1)\n",
        "        self.bn5 = nn.BatchNorm1d(num_features=1)\n",
        "        self.bn6 = nn.BatchNorm1d(num_features=1)\n",
        " \n",
        "        self.softmax = nn.Softmax(dim=1)\n",
        "\n",
        "    def forward(self, x):\n",
        "        \n",
        "        x = self.bn1(F.relu(self.fc1(x)))\n",
        "        x = self.bn2(F.relu(self.fc2(x)))\n",
        "        x = self.bn3(F.relu(self.fc3(x)))\n",
        "        x = self.bn4(F.relu(self.fc4(x)))\n",
        "        x = self.bn5(F.relu(self.fc5(x)))\n",
        "        x = self.bn6(F.relu(self.fc6(x)))\n",
        "        x = F.relu(self.fc7(x))\n",
        "        x = self.softmax(x.view(-1, classes_count))\n",
        "\n",
        "        return x"
      ],
      "execution_count": null,
      "outputs": []
    },
    {
      "cell_type": "markdown",
      "metadata": {
        "id": "4xQ8NOxETR8E"
      },
      "source": [
        "# Training and evaluation"
      ]
    },
    {
      "cell_type": "code",
      "metadata": {
        "id": "am55e78i5tXo"
      },
      "source": [
        "def train(net, dataloader, criterion, optimizer):\n",
        "    net = net.train()   \n",
        "    loss_tr, correct_count, n_samples = 0.0, 0.0, 0.0\n",
        "    for i, data in enumerate(dataloader):\n",
        "        inputs, labels = data\n",
        "        inputs, labels = inputs.float().to(device), labels.to(device)\n",
        "        if len(labels) < 64:\n",
        "          break\n",
        "\n",
        "        # zero the parameter gradients\n",
        "        optimizer.zero_grad()\n",
        "\n",
        "        # forward + backward + optimize\n",
        "        outputs = net(inputs)\n",
        "        loss = criterion(outputs, labels)\n",
        "        loss.backward()\n",
        "        optimizer.step()\n",
        "\n",
        "        # calculate performance metrics\n",
        "        loss_tr += loss.item()\n",
        "\n",
        "        _, preds = torch.max(outputs.data, 1)\n",
        "        correct_count += (preds == labels).sum().item()\n",
        "        n_samples += labels.size(0)\n",
        "\n",
        "    acc = 100 * correct_count / n_samples\n",
        "    loss = loss_tr / n_samples\n",
        "\n",
        "    return acc, loss"
      ],
      "execution_count": null,
      "outputs": []
    },
    {
      "cell_type": "code",
      "metadata": {
        "id": "_7ifc8tfXV8U"
      },
      "source": [
        "def evaluate(net, dataloader, criterion):\n",
        "    with torch.no_grad():  # remove gradient calculation, by default, in evaluation mode, torch will still calculate gradient. \n",
        "        net = net.eval()\n",
        "        loss_tr, correct_count, n_samples, preds = 0.0, 0.0, 0.0, []\n",
        "        for data in dataloader:\n",
        "            inputs, labels = data\n",
        "            inputs, labels = inputs.float().to(device), labels.to(device)\n",
        "\n",
        "            outputs = net(inputs)\n",
        "            loss = criterion(outputs, labels)\n",
        "\n",
        "            # calculate performance metrics\n",
        "            loss_tr += loss.item()\n",
        "\n",
        "            _, pred = torch.max(outputs.data, 1)\n",
        "            preds.extend([p.item() for p in pred])\n",
        "            correct_count += (pred == labels).sum().item()\n",
        "            n_samples += labels.size(0)\n",
        "\n",
        "        acc = 100 * correct_count / n_samples\n",
        "        loss = loss_tr / n_samples\n",
        "\n",
        "    return acc, loss, preds"
      ],
      "execution_count": null,
      "outputs": []
    },
    {
      "cell_type": "markdown",
      "source": [
        "# Hyper parameters"
      ],
      "metadata": {
        "id": "V3PJLYFtG2f8"
      }
    },
    {
      "cell_type": "code",
      "metadata": {
        "id": "NINys1uHoDrD"
      },
      "source": [
        "def count_parameters(model):\n",
        "    return sum(p.numel() for p in model.parameters() if p.requires_grad)\n",
        "\n",
        "cnn_hps = {\n",
        "    'net': CNN,\n",
        "    'bs': 64,\n",
        "    'epochs': 100,\n",
        "    'lr': 0.001,\n",
        "    'augment': True,    \n",
        "}\n",
        "\n",
        "dense_hps = {\n",
        "    'net': Dense,\n",
        "    'bs': 64,\n",
        "    'epochs': 100,\n",
        "    'lr': 0.001,\n",
        "    'augment': True, \n",
        "}\n",
        "\n",
        "fullcnn_hps = {\n",
        "    'net': FullCNN,\n",
        "    'bs': 16,\n",
        "    'epochs': 100,\n",
        "    'lr': 0.001,\n",
        "    'augment': True,  \n",
        "}\n",
        "\n",
        "multihead_hps = {\n",
        "    'net': MultiHead,\n",
        "    'bs': 128,\n",
        "    'epochs': 100,\n",
        "    'lr': 0.001,\n",
        "    'augment': True,\n",
        "}\n"
      ],
      "execution_count": null,
      "outputs": []
    },
    {
      "cell_type": "code",
      "metadata": {
        "id": "1mDESmd079N1"
      },
      "source": [
        "device = torch.device(\"cuda:0\" if torch.cuda.is_available() else \"cpu\")\n",
        "model = CNN().float().to(device)\n",
        "hps = cnn_hps\n",
        "hps['seed'] = 42\n",
        "\n",
        "xtrain, xtest, ytrain, ytest = train_test_split(X, Y, stratify=Y, train_size=0.8, random_state=hps['seed'], shuffle=True)\n",
        "xtrain, xval, ytrain, yval = train_test_split(xtrain, ytrain, stratify=ytrain, train_size=0.8, random_state=hps['seed'], shuffle=True)\n",
        "data_train = CustomDataset(xtrain, ytrain, augmentation=hps['augment'])\n",
        "data_val = CustomDataset(xval, yval)\n",
        "data_test = CustomDataset(xtest, ytest)\n",
        "trainloader = DataLoader(data_train, batch_size=hps['bs'], shuffle=True, num_workers=2)\n",
        "valloader = DataLoader(data_val, batch_size=hps['bs'], shuffle=True, num_workers=2)\n",
        "testloader = DataLoader(data_test, batch_size=hps['bs'], shuffle=False, num_workers=2)\n"
      ],
      "execution_count": null,
      "outputs": []
    },
    {
      "cell_type": "code",
      "metadata": {
        "colab": {
          "base_uri": "https://localhost:8080/"
        },
        "id": "w2J1j1IG8Uuu",
        "outputId": "5cb65c5f-9358-48bb-8def-31876feff65d"
      },
      "source": [
        "# Setup \n",
        "optimizer = torch.optim.Adam(model.parameters(), lr=hps['lr'])\n",
        "criterion = nn.CrossEntropyLoss()\n",
        "scheduler = torch.optim.lr_scheduler.StepLR(optimizer, step_size=30, gamma=0.5)\n",
        "# Logger\n",
        "train_accuracy = []\n",
        "val_accuracy = []\n",
        "\n",
        "train_loss = []\n",
        "val_loss = []\n",
        "\n",
        "best_accuracy = 0\n",
        "\n",
        "print(\"Device:\", device)\n",
        "print(\"Number of Parameters:\", count_parameters(model), '\\n')\n",
        "\n",
        "for epoch in range(hps['epochs']):\n",
        "    # pass through train and val dataloaders\n",
        "    acc_tr, loss_tr = train(model, trainloader, criterion, optimizer)\n",
        "    acc_v, loss_v, _ = evaluate(model, valloader, criterion)\n",
        "\n",
        "    # log metircs\n",
        "    train_accuracy.append(acc_tr)\n",
        "    train_loss.append(loss_tr)\n",
        "    scheduler.step()    \n",
        "    val_accuracy.append(acc_v)\n",
        "    val_loss.append(loss_v)\n",
        "    \n",
        "    if acc_v > best_accuracy:\n",
        "        best_accuracy = acc_v\n",
        "        torch.save(model.state_dict(), \"best_params\")\n",
        "\n",
        "    # print\n",
        "    if (epoch + 1) % 5 == 0:\n",
        "        print('Epoch %2d' % (epoch + 1),\n",
        "            'Train Acc: %2.2f %%' % acc_tr,\n",
        "            'Train Loss: %2.4f' % loss_tr,\n",
        "            'Val Acc: %2.2f %%' % acc_v,\n",
        "            'Val Loss: %2.4f' % loss_v,\n",
        "            sep='\\t\\t')"
      ],
      "execution_count": null,
      "outputs": [
        {
          "output_type": "stream",
          "name": "stdout",
          "text": [
            "Device: cuda:0\n",
            "Number of Parameters: 12296 \n",
            "\n",
            "Epoch  5\t\tTrain Acc: 84.55 %\t\tTrain Loss: 0.0142\t\tVal Acc: 87.98 %\t\tVal Loss: 0.0144\n",
            "Epoch 10\t\tTrain Acc: 86.83 %\t\tTrain Loss: 0.0137\t\tVal Acc: 96.04 %\t\tVal Loss: 0.0132\n",
            "Epoch 15\t\tTrain Acc: 88.35 %\t\tTrain Loss: 0.0135\t\tVal Acc: 95.62 %\t\tVal Loss: 0.0135\n",
            "Epoch 20\t\tTrain Acc: 89.10 %\t\tTrain Loss: 0.0133\t\tVal Acc: 95.76 %\t\tVal Loss: 0.0133\n",
            "Epoch 25\t\tTrain Acc: 88.88 %\t\tTrain Loss: 0.0133\t\tVal Acc: 85.43 %\t\tVal Loss: 0.0154\n",
            "Epoch 30\t\tTrain Acc: 88.39 %\t\tTrain Loss: 0.0134\t\tVal Acc: 96.04 %\t\tVal Loss: 0.0133\n",
            "Epoch 35\t\tTrain Acc: 90.13 %\t\tTrain Loss: 0.0131\t\tVal Acc: 96.32 %\t\tVal Loss: 0.0132\n",
            "Epoch 40\t\tTrain Acc: 90.66 %\t\tTrain Loss: 0.0131\t\tVal Acc: 95.76 %\t\tVal Loss: 0.0132\n",
            "Epoch 45\t\tTrain Acc: 90.02 %\t\tTrain Loss: 0.0131\t\tVal Acc: 96.75 %\t\tVal Loss: 0.0131\n",
            "Epoch 50\t\tTrain Acc: 91.02 %\t\tTrain Loss: 0.0130\t\tVal Acc: 95.90 %\t\tVal Loss: 0.0132\n",
            "Epoch 55\t\tTrain Acc: 91.69 %\t\tTrain Loss: 0.0129\t\tVal Acc: 96.46 %\t\tVal Loss: 0.0132\n",
            "Epoch 60\t\tTrain Acc: 91.09 %\t\tTrain Loss: 0.0130\t\tVal Acc: 95.62 %\t\tVal Loss: 0.0133\n",
            "Epoch 65\t\tTrain Acc: 91.26 %\t\tTrain Loss: 0.0130\t\tVal Acc: 95.90 %\t\tVal Loss: 0.0132\n",
            "Epoch 70\t\tTrain Acc: 90.66 %\t\tTrain Loss: 0.0131\t\tVal Acc: 95.76 %\t\tVal Loss: 0.0133\n",
            "Epoch 75\t\tTrain Acc: 91.05 %\t\tTrain Loss: 0.0130\t\tVal Acc: 96.32 %\t\tVal Loss: 0.0132\n",
            "Epoch 80\t\tTrain Acc: 92.05 %\t\tTrain Loss: 0.0129\t\tVal Acc: 95.76 %\t\tVal Loss: 0.0132\n",
            "Epoch 85\t\tTrain Acc: 91.90 %\t\tTrain Loss: 0.0129\t\tVal Acc: 97.03 %\t\tVal Loss: 0.0131\n",
            "Epoch 90\t\tTrain Acc: 91.76 %\t\tTrain Loss: 0.0130\t\tVal Acc: 96.61 %\t\tVal Loss: 0.0131\n",
            "Epoch 95\t\tTrain Acc: 91.58 %\t\tTrain Loss: 0.0129\t\tVal Acc: 96.32 %\t\tVal Loss: 0.0132\n",
            "Epoch 100\t\tTrain Acc: 91.34 %\t\tTrain Loss: 0.0130\t\tVal Acc: 96.04 %\t\tVal Loss: 0.0132\n"
          ]
        }
      ]
    },
    {
      "cell_type": "code",
      "metadata": {
        "id": "8ggKo0aMgeie",
        "colab": {
          "base_uri": "https://localhost:8080/",
          "height": 572
        },
        "outputId": "9de39014-f9c0-4276-aab9-bc51decc5413"
      },
      "source": [
        "plt.figure()\n",
        "plt.plot(train_accuracy, 'g', label='Training Accuracy')\n",
        "plt.plot(val_accuracy, 'b', label='Validation Accuracy')\n",
        "# plt.title('Accuracy')\n",
        "plt.xlabel('Epochs')\n",
        "plt.ylabel('Accurracy(%)')\n",
        "plt.legend()\n",
        "plt.grid()\n",
        "plt.rcParams['font.size'] = '16'\n",
        "\n",
        "plt.figure()\n",
        "plt.plot(train_loss, 'g', label='Training Loss')\n",
        "plt.plot(val_loss, 'b', label='Validation Loss')\n",
        "plt.title('Loss')\n",
        "plt.xlabel('Epochs')\n",
        "plt.ylabel('Loss')\n",
        "plt.legend()\n",
        "plt.grid()\n",
        "plt.rcParams['font.size'] = '16'"
      ],
      "execution_count": null,
      "outputs": [
        {
          "output_type": "display_data",
          "data": {
            "image/png": "[encoded data removed]",
            "text/plain": [
              "<Figure size 432x288 with 1 Axes>"
            ]
          },
          "metadata": {
            "needs_background": "light"
          }
        },
        {
          "output_type": "display_data",
          "data": {
            "image/png": "[encoded data removed]",
            "text/plain": [
              "<Figure size 432x288 with 1 Axes>"
            ]
          },
          "metadata": {
            "needs_background": "light"
          }
        }
      ]
    },
    {
      "cell_type": "code",
      "metadata": {
        "id": "5DN9UHBmwo5p"
      },
      "source": [
        "from sklearn.preprocessing import StandardScaler\n",
        "from sklearn.manifold import TSNE\n",
        "\n",
        "all_data = CustomDataset(X, Y, augmentation=False)\n",
        "dataloader = DataLoader(all_data, batch_size=hps['bs'], shuffle=False, num_workers=2)\n",
        "\n",
        "# get the raw data store in a dictoinary corresponding to each class. rawdata[class] = spec\n",
        "rawdata = collections.defaultdict(list)\n",
        "for i in range(4):\n",
        "  class_spectra = data[i]\n",
        "  for spec in class_spectra:\n",
        "    rawdata[i].append(spec)\n",
        "\n",
        "# get the embedding of each spectrum in each class\n",
        "embeddings = collections.defaultdict(list)\n",
        "for batch in dataloader:\n",
        "  inputs, labels = batch\n",
        "  inputs, labels = inputs.float().to(device), labels.to(device)\n",
        "  embedding = model.embed(inputs)\n",
        "  for label, emb in zip(labels, embedding):\n",
        "    embeddings[label.item()].append([num.item() for num in emb.view(-1)])\n",
        "\n",
        "\n"
      ],
      "execution_count": null,
      "outputs": []
    },
    {
      "cell_type": "code",
      "metadata": {
        "id": "6GfsQ8DaaI-F",
        "colab": {
          "base_uri": "https://localhost:8080/",
          "height": 285
        },
        "outputId": "374dd39e-43e3-451d-edd0-11dafa1b3b0e"
      },
      "source": [
        "from sklearn.preprocessing import StandardScaler\n",
        "from sklearn.decomposition import PCA\n",
        "import matplotlib.pyplot as plt\n",
        "from mpl_toolkits.mplot3d import Axes3D\n",
        "\n",
        "#standarize the data to be mean at 0 and variance of 1. \n",
        "pca_data = collections.defaultdict(list)\n",
        "pca_embedding = collections.defaultdict(list)\n",
        "pca = PCA(n_components=3)\n",
        "for i in range(4):\n",
        "    specs = rawdata[i]\n",
        "    embeds = embeddings[i]    \n",
        "    \n",
        "    specs_standard = StandardScaler().fit_transform(specs)\n",
        "    embeds_standard = StandardScaler().fit_transform(embeds)\n",
        "    spec_pca = pca.fit_transform(specs_standard)\n",
        "    embeds_pca = pca.fit_transform(embeds_standard)\n",
        "\n",
        "    pca_data[i] = spec_pca\n",
        "    pca_embedding[i] = embeds_pca\n",
        "\n",
        "def plot3D(pca_data):\n",
        "  fig = plt.figure()\n",
        "  ax = fig.add_subplot(111, projection='3d')\n",
        "  color = ['red', 'yellow', 'blue', 'green']\n",
        "  markers = ['o', '+', '*', 'v']\n",
        "  for i in range(4):\n",
        "      ax.scatter(pca_data[i][:,0], pca_data[i][:,1],pca_data[i][:,2], c=color[i], marker=markers[i], label = 'Class' + str(i + 1))\n",
        "  plt.legend(loc=\"upper left\")\n",
        "  plt.xlim([-50, 50])\n",
        "  ax.set_xlabel('PC1')\n",
        "  ax.set_ylabel('PC2')\n",
        "  ax.set_zlabel('PC3')\n",
        "  plt.show()\n",
        "  plt.rcParams['font.size'] = '12'\n",
        "  return fig\n",
        "\n",
        "def plot2D(pca_data):\n",
        "  fig = plt.figure()\n",
        "  color = ['red', 'yellow', 'blue', 'green']\n",
        "  markers = ['o', '+', '*', 'v']\n",
        "  for i in range(4):  \n",
        "      plt.plot(pca_data[i][:,0], pca_data[i][:,1], 'o', markerfacecolor=color[i],\n",
        "           markeredgecolor=color[i],  markersize=3, label='class' + str(i + 1))\n",
        "  plt.legend(loc=\"upper right\")\n",
        "  plt.xlim([-10, 80])\n",
        "  # plt.xlim([-15, 30])\n",
        "  # plt.ylim([-20, 30])\n",
        "  # ax.set_zlim(-20, 30)\n",
        "  plt.xlabel('PC1')\n",
        "  plt.ylabel('PC2')\n",
        "  plt.show()\n",
        "  plt.rcParams['font.size'] = '12'\n",
        "  return fig\n",
        "\n",
        "f1 = plot3D(pca_data)\n",
        "f1.savefig('PCA_rawdata.jpg')\n",
        "f2 = plot3D(pca_embedding)\n",
        "f2.savefig('PCA_embedding.jpg')\n"
      ],
      "execution_count": null,
      "outputs": [
        {
          "output_type": "display_data",
          "data": {
            "image/png": "[encoded data removed]",
            "text/plain": [
              "<Figure size 432x288 with 1 Axes>"
            ]
          },
          "metadata": {
            "needs_background": "light"
          }
        }
      ]
    }
  ]
}